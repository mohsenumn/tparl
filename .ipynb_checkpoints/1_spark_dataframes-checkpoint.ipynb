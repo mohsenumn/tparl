{
 "cells": [
  {
   "cell_type": "markdown",
   "id": "09856fe9",
   "metadata": {
    "id": "fuzzy-facial"
   },
   "source": [
    "# Spark DataFrames"
   ]
  },
  {
   "cell_type": "markdown",
   "id": "010e8eed",
   "metadata": {
    "id": "sharp-granny"
   },
   "source": [
    "### Introduction"
   ]
  },
  {
   "cell_type": "markdown",
   "id": "984fdf99",
   "metadata": {
    "id": "pending-venue"
   },
   "source": [
    "Now normally, when working with Pyspark, we work on a higher level of abstraction, which is to work with a dataframe.  In this lesson, we'll get started working with a dataframe."
   ]
  },
  {
   "cell_type": "markdown",
   "id": "5a0fadf8",
   "metadata": {
    "id": "mighty-ability"
   },
   "source": [
    "### Introducing a Dataframe"
   ]
  },
  {
   "cell_type": "markdown",
   "id": "2f19df8e",
   "metadata": {
    "id": "chronic-bottom"
   },
   "source": [
    "The first step to creating a dataframe, is to initialize a spark session."
   ]
  },
  {
   "cell_type": "code",
   "execution_count": 1,
   "id": "4d873a4e",
   "metadata": {
    "id": "developing-preserve"
   },
   "outputs": [],
   "source": [
    "from pyspark.sql import SparkSession\n",
    "\n",
    "spark = SparkSession \\\n",
    "    .builder \\\n",
    "    .appName(\"Python Spark SQL basic example\") \\\n",
    "    .config(\"spark.some.config.option\", \"some-value\") \\\n",
    "    .getOrCreate()"
   ]
  },
  {
   "cell_type": "markdown",
   "id": "6d1e50c9",
   "metadata": {
    "id": "spanish-duplicate"
   },
   "source": [
    "Now, a spark session is very similar to a spark context, which we worked with in previous lessons.  A spark session, wraps around a spark context -- creating a new spark context if one doesn't currently exist. "
   ]
  },
  {
   "cell_type": "markdown",
   "id": "6e00df99",
   "metadata": {
    "id": "reasonable-gender"
   },
   "source": [
    "> So if we want to get the spark context from our session we can do so with the following."
   ]
  },
  {
   "cell_type": "code",
   "execution_count": 2,
   "id": "c2e4cecc",
   "metadata": {
    "id": "structural-lighter",
    "outputId": "07338627-9856-4e0e-c703-a23ee7d6009a"
   },
   "outputs": [
    {
     "data": {
      "text/html": [
       "\n",
       "        <div>\n",
       "            <p><b>SparkContext</b></p>\n",
       "\n",
       "            <p><a href=\"http://infra04-wg011.eduroam.wireless.umn.edu:4044\">Spark UI</a></p>\n",
       "\n",
       "            <dl>\n",
       "              <dt>Version</dt>\n",
       "                <dd><code>v3.3.0</code></dd>\n",
       "              <dt>Master</dt>\n",
       "                <dd><code>local[*]</code></dd>\n",
       "              <dt>AppName</dt>\n",
       "                <dd><code>Python Spark SQL basic example</code></dd>\n",
       "            </dl>\n",
       "        </div>\n",
       "        "
      ],
      "text/plain": [
       "<SparkContext master=local[*] appName=Python Spark SQL basic example>"
      ]
     },
     "execution_count": 2,
     "metadata": {},
     "output_type": "execute_result"
    }
   ],
   "source": [
    "spark.sparkContext"
   ]
  },
  {
   "cell_type": "markdown",
   "id": "39d33b23",
   "metadata": {
    "id": "precise-stream"
   },
   "source": [
    "So this spark session is really just a thin wrapper around our spark context, which is one way for us to connect to our spark cluster.  The spark session is the other way.\n",
    "\n",
    "Now let's use the spark session to create a dataframe."
   ]
  },
  {
   "cell_type": "markdown",
   "id": "1e98e27b",
   "metadata": {
    "id": "behavioral-declaration"
   },
   "source": [
    "### Creating a DataFrame"
   ]
  },
  {
   "cell_type": "markdown",
   "id": "1ce6bb49",
   "metadata": {
    "id": "naked-pakistan"
   },
   "source": [
    "To create our dataframe, we can start with a list of dictionaries in Python."
   ]
  },
  {
   "cell_type": "code",
   "execution_count": null,
   "id": "38adb7df",
   "metadata": {
    "id": "oriental-point"
   },
   "outputs": [],
   "source": [
    "movies = [{'index': 1,\n",
    "  'title': 'Shazam!',\n",
    "  'release_date': 1553299200,\n",
    "  'genre': 'Comedy'}, {'index': 2,\n",
    "  'title': 'Captain Marvel',\n",
    "  'release_date': 1551830400,\n",
    "  'genre': 'Action'},  {'index': 3,\n",
    "  'title': 'Escape Room',\n",
    "  'release_date': 1546473600,\n",
    "  'genre': 'Horror'}, {'index': 4,\n",
    "  'title': 'How to Train A Dragon',\n",
    "  'release_date': 1546473600,\n",
    "  'genre': 'Animation'}]"
   ]
  },
  {
   "cell_type": "markdown",
   "id": "0242e102",
   "metadata": {
    "id": "framed-bridge"
   },
   "source": [
    "> So here we have a list of movies displaying the `title`, `release_date` and `genre` of each movie."
   ]
  },
  {
   "cell_type": "markdown",
   "id": "6226e598",
   "metadata": {
    "id": "laden-stress"
   },
   "source": [
    "And then we can use the `createDataFrame` method on the spark session to create our dataframe."
   ]
  },
  {
   "cell_type": "code",
   "execution_count": null,
   "id": "cef1ca3d",
   "metadata": {
    "id": "becoming-jackson"
   },
   "outputs": [],
   "source": [
    "movies_df = spark.createDataFrame(movies)"
   ]
  },
  {
   "cell_type": "markdown",
   "id": "d518b754",
   "metadata": {
    "id": "excellent-uganda"
   },
   "source": [
    "And we can view that dataframe by running the `show` method."
   ]
  },
  {
   "cell_type": "code",
   "execution_count": null,
   "id": "ddfc9a58",
   "metadata": {
    "id": "turned-hamilton",
    "outputId": "de126666-cfcb-45ba-9e15-9989b5406c9d"
   },
   "outputs": [
    {
     "name": "stdout",
     "output_type": "stream",
     "text": [
      "+---------+-----+------------+--------------------+\n",
      "|    genre|index|release_date|               title|\n",
      "+---------+-----+------------+--------------------+\n",
      "|   Comedy|    1|  1553299200|             Shazam!|\n",
      "|   Action|    2|  1551830400|      Captain Marvel|\n",
      "|   Horror|    3|  1546473600|         Escape Room|\n",
      "|Animation|    4|  1546473600|How to Train A Dr...|\n",
      "+---------+-----+------------+--------------------+\n",
      "\n"
     ]
    }
   ],
   "source": [
    "movies_df.show()"
   ]
  },
  {
   "cell_type": "markdown",
   "id": "4b53c49e",
   "metadata": {
    "id": "veterinary-mitchell"
   },
   "source": [
    "So we can see from the above, that our dataframe organizes our data in a table.  It has associated our records with various columns."
   ]
  },
  {
   "cell_type": "markdown",
   "id": "bf17dd0b",
   "metadata": {
    "id": "black-fiber"
   },
   "source": [
    "We can also see the *schema on read* characteristic from spark.  That even without specifying a datatype, Spark was able to determine the datatype for each column."
   ]
  },
  {
   "cell_type": "code",
   "execution_count": null,
   "id": "2cffcafb",
   "metadata": {
    "id": "other-system",
    "outputId": "8c8a0114-cb6f-47b1-9d9e-9268de0e62ce"
   },
   "outputs": [
    {
     "name": "stdout",
     "output_type": "stream",
     "text": [
      "root\n",
      " |-- genre: string (nullable = true)\n",
      " |-- index: long (nullable = true)\n",
      " |-- release_date: long (nullable = true)\n",
      " |-- title: string (nullable = true)\n",
      "\n"
     ]
    }
   ],
   "source": [
    "movies_df.printSchema()"
   ]
  },
  {
   "cell_type": "markdown",
   "id": "89dbe904",
   "metadata": {
    "id": "promotional-credit"
   },
   "source": [
    "### From DataFrame to RDD"
   ]
  },
  {
   "cell_type": "markdown",
   "id": "7c76c057",
   "metadata": {
    "id": "atmospheric-brake"
   },
   "source": [
    "Now a dataframe in Pyspark creates an RDD under the hood."
   ]
  },
  {
   "cell_type": "code",
   "execution_count": null,
   "id": "dc6d691c",
   "metadata": {
    "id": "composed-habitat",
    "outputId": "69e18f20-57e6-441e-fe83-0930b2232fbe"
   },
   "outputs": [
    {
     "data": {
      "text/plain": [
       "MapPartitionsRDD[55] at javaToPython at NativeMethodAccessorImpl.java:0"
      ]
     },
     "execution_count": 43,
     "metadata": {},
     "output_type": "execute_result"
    }
   ],
   "source": [
    "movies_df.rdd"
   ]
  },
  {
   "cell_type": "code",
   "execution_count": null,
   "id": "b9d2feea",
   "metadata": {
    "id": "unlikely-herald",
    "outputId": "b9769857-f654-4e9f-c177-5b4f100f0219"
   },
   "outputs": [
    {
     "data": {
      "text/plain": [
       "[Row(genre='Comedy', release_date=1553299200, title='Shazam!'),\n",
       " Row(genre='Action', release_date=1551830400, title='Captain Marvel'),\n",
       " Row(genre='Horror', release_date=1546473600, title='Escape Room'),\n",
       " Row(genre='Animation', release_date=1546473600, title='How to Train A Dragon')]"
      ]
     },
     "execution_count": 46,
     "metadata": {},
     "output_type": "execute_result"
    }
   ],
   "source": [
    "movies_df.rdd.collect()"
   ]
  },
  {
   "cell_type": "markdown",
   "id": "754bccb7",
   "metadata": {
    "id": "aware-ensemble"
   },
   "source": [
    "1. It's distributed"
   ]
  },
  {
   "cell_type": "markdown",
   "id": "c7ed2d32",
   "metadata": {
    "id": "incident-belly"
   },
   "source": [
    "And that even though this looks like a unified dataset, it's really distributed across different nodes."
   ]
  },
  {
   "cell_type": "code",
   "execution_count": null,
   "id": "180fa97b",
   "metadata": {
    "id": "unlike-insured",
    "outputId": "b05fe06b-3d22-426f-8ce4-b585d997c4c4"
   },
   "outputs": [
    {
     "data": {
      "text/plain": [
       "2"
      ]
     },
     "execution_count": 44,
     "metadata": {},
     "output_type": "execute_result"
    }
   ],
   "source": [
    "movies_df.rdd.getNumPartitions()"
   ]
  },
  {
   "cell_type": "markdown",
   "id": "cf0bfb1b",
   "metadata": {
    "id": "cubic-launch"
   },
   "source": [
    "2. It's lazy"
   ]
  },
  {
   "cell_type": "markdown",
   "id": "e563dff4",
   "metadata": {
    "id": "permanent-consent"
   },
   "source": [
    "Because our dataset is built on RDDs, is also operates in lazy manner.  So for example, if we want to select all of the titles of an RDD, we'll use a `map` function to select the title from each row.  But because `map` is a transformation, it will not operate on our data, until we follow up with an action."
   ]
  },
  {
   "cell_type": "code",
   "execution_count": null,
   "id": "0d50c0dd",
   "metadata": {
    "id": "featured-producer",
    "outputId": "a9e364e8-1c49-41d1-c56c-ca2a65fcb085"
   },
   "outputs": [
    {
     "data": {
      "text/plain": [
       "PythonRDD[60] at RDD at PythonRDD.scala:53"
      ]
     },
     "execution_count": 57,
     "metadata": {},
     "output_type": "execute_result"
    }
   ],
   "source": [
    "movies_df.rdd.map(lambda movie: movie['title'])"
   ]
  },
  {
   "cell_type": "code",
   "execution_count": null,
   "id": "cdbcbfd4",
   "metadata": {
    "id": "concrete-friendship",
    "outputId": "07eaf252-fa1a-4704-c741-0dc170e0729c"
   },
   "outputs": [
    {
     "data": {
      "text/plain": [
       "['Shazam!', 'Captain Marvel', 'Escape Room', 'How to Train A Dragon']"
      ]
     },
     "execution_count": 58,
     "metadata": {},
     "output_type": "execute_result"
    }
   ],
   "source": [
    "movies_df.rdd.map(lambda movie: movie['title']).collect()"
   ]
  },
  {
   "cell_type": "markdown",
   "id": "68925df5",
   "metadata": {
    "id": "treated-istanbul"
   },
   "source": [
    "If we perform the equivalent operation with a dataframe, the operation is also treated as a transformation.  Let's see this.  Below, we'll select the `title` of each record."
   ]
  },
  {
   "cell_type": "code",
   "execution_count": null,
   "id": "1dfc08d3",
   "metadata": {
    "id": "excited-durham",
    "outputId": "ad0c57fb-900c-45e9-a3f0-be372da770ff"
   },
   "outputs": [
    {
     "data": {
      "text/plain": [
       "DataFrame[title: string]"
      ]
     },
     "execution_count": 59,
     "metadata": {},
     "output_type": "execute_result"
    }
   ],
   "source": [
    "movies_df.select('title')"
   ]
  },
  {
   "cell_type": "markdown",
   "id": "15699b28",
   "metadata": {
    "id": "minor-national"
   },
   "source": [
    "So again, spark will not search through each of the records until an action is called."
   ]
  },
  {
   "cell_type": "code",
   "execution_count": null,
   "id": "97b42210",
   "metadata": {
    "id": "monthly-saudi",
    "outputId": "b3f06bf5-7ad9-4d14-9b4a-e60e33f1e9fb"
   },
   "outputs": [
    {
     "name": "stdout",
     "output_type": "stream",
     "text": [
      "+--------------------+\n",
      "|               title|\n",
      "+--------------------+\n",
      "|             Shazam!|\n",
      "|      Captain Marvel|\n",
      "|         Escape Room|\n",
      "|How to Train A Dr...|\n",
      "+--------------------+\n",
      "\n"
     ]
    }
   ],
   "source": [
    "movies_df.select('title').show()"
   ]
  },
  {
   "cell_type": "markdown",
   "id": "22d4bcbf",
   "metadata": {
    "id": "driving-assault"
   },
   "source": [
    "> So we can see that `show` is similar to `collect`. "
   ]
  },
  {
   "cell_type": "markdown",
   "id": "92f9a571",
   "metadata": {
    "id": "swedish-phone"
   },
   "source": [
    "Let's do this one more time, this time with two columns."
   ]
  },
  {
   "cell_type": "code",
   "execution_count": null,
   "id": "a332c7a7",
   "metadata": {
    "id": "changed-bloom",
    "outputId": "bb0a8a9f-aec0-4cf3-881b-ffee3da7784d"
   },
   "outputs": [
    {
     "name": "stdout",
     "output_type": "stream",
     "text": [
      "+--------------------+---------+\n",
      "|               title|    genre|\n",
      "+--------------------+---------+\n",
      "|             Shazam!|   Comedy|\n",
      "|      Captain Marvel|   Action|\n",
      "|         Escape Room|   Horror|\n",
      "|How to Train A Dr...|Animation|\n",
      "+--------------------+---------+\n",
      "\n"
     ]
    }
   ],
   "source": [
    "movies_df.select(['title', 'genre']).show()"
   ]
  },
  {
   "cell_type": "markdown",
   "id": "d4dc2528",
   "metadata": {
    "id": "italian-velvet"
   },
   "source": [
    "> So to select multiple columns, we pass through a list of columns."
   ]
  },
  {
   "cell_type": "markdown",
   "id": "ef9af9f0",
   "metadata": {
    "id": "laden-baseball"
   },
   "source": [
    "4. Only Coarse Grained Operations"
   ]
  },
  {
   "cell_type": "markdown",
   "id": "a89520d9",
   "metadata": {
    "id": "monthly-shipping"
   },
   "source": [
    "Remember that with our RDDs, we only have coarse grained methods available to us -- those methods like `map` or `filter` that operate across a dataset.  This makes things a little tricky if we want to just select a single row.  For example, we may think that with our dataframe above, we want to select the entry at a specific index.  With our dataframe, the only way to do this is to use something akin to the filter method -- where we ask to *select* the rows that have an id of 1.  But we'll learn how to do that with our dataframe in a future lesson."
   ]
  },
  {
   "cell_type": "markdown",
   "id": "f5613b4b",
   "metadata": {
    "id": "dynamic-violence"
   },
   "source": [
    "### Summary"
   ]
  },
  {
   "cell_type": "markdown",
   "id": "c8089e65",
   "metadata": {
    "id": "absent-checkout"
   },
   "source": [
    "In this lesson we learned how to create a DataFrame in Spark.  We do so, not through our Spark context but by creating a Spark session.  "
   ]
  },
  {
   "cell_type": "code",
   "execution_count": null,
   "id": "37960186",
   "metadata": {
    "id": "dying-obligation"
   },
   "outputs": [],
   "source": [
    "from pyspark.sql import SparkSession\n",
    "\n",
    "spark = SparkSession \\\n",
    "    .builder \\\n",
    "    .appName(\"Python Spark SQL basic example\") \\\n",
    "    .config(\"spark.some.config.option\", \"some-value\") \\\n",
    "    .getOrCreate()"
   ]
  },
  {
   "cell_type": "code",
   "execution_count": null,
   "id": "3c71fe1a",
   "metadata": {
    "id": "lyric-cruise"
   },
   "outputs": [],
   "source": [
    "movies_df = spark.createDataFrame(movies)"
   ]
  },
  {
   "cell_type": "markdown",
   "id": "7788573f",
   "metadata": {
    "id": "martial-grant"
   },
   "source": [
    "We then saw that our dataframe is really just a simpler interface for interacting with our resilient distributed dataset.  And because of this, it contains the same features of our RDD: it's distributed, it's lazy, and allows for only coarse grained transformations.\n",
    "\n",
    "This knowledge gave us some insight into how to interact with our dataframe.  So we saw that to select specific columns, we have to use the `select` method, which operates as a `transformation` and then use the `show` method as our action. "
   ]
  },
  {
   "cell_type": "code",
   "execution_count": null,
   "id": "cfd9e7b7",
   "metadata": {
    "id": "proprietary-money",
    "outputId": "d7975622-930b-4212-cba0-b4b5c20a5d24"
   },
   "outputs": [
    {
     "name": "stdout",
     "output_type": "stream",
     "text": [
      "+--------------------+---------+\n",
      "|               title|    genre|\n",
      "+--------------------+---------+\n",
      "|             Shazam!|   Comedy|\n",
      "|      Captain Marvel|   Action|\n",
      "|         Escape Room|   Horror|\n",
      "|How to Train A Dr...|Animation|\n",
      "+--------------------+---------+\n",
      "\n"
     ]
    }
   ],
   "source": [
    "movies_df.select(['title', 'genre']).show()"
   ]
  },
  {
   "cell_type": "markdown",
   "id": "503bcd49",
   "metadata": {
    "id": "technical-province"
   },
   "source": [
    "### Resources\n",
    "\n",
    "[Pyspark operations](https://hendra-herviawan.github.io/)\n",
    "\n",
    "[Pyspark DataFrame Rows and Columns](https://hendra-herviawan.github.io/pyspark-dataframe-row-columns.html)\n",
    "\n",
    "[Creating a Dataframe](https://neapowers.com/pyspark/createdataframe-todf/)\n",
    "\n",
    "[Spark by Examples](https://sparkbyexamples.com/pyspark-tutorial/#pyspark-dataframe)\n",
    "\n",
    "[Data Partitioning Spark](https://kontext.tech/column/spark/296/data-partitioning-in-spark-pyspark-in-depth-walkthrough)\n"
   ]
  },
  {
   "cell_type": "markdown",
   "id": "6dad3dcb",
   "metadata": {
    "id": "occasional-trouble"
   },
   "source": [
    "[DataBricks RDD to Dataframe](https://databricks.com/glossary/what-is-rdd)"
   ]
  },
  {
   "cell_type": "markdown",
   "id": "8689a37f",
   "metadata": {
    "id": "supposed-circuit"
   },
   "source": [
    "[DataFrame Programming Guide](https://spark.apache.org/docs/latest/sql-programming-guide.html)"
   ]
  },
  {
   "cell_type": "markdown",
   "id": "cb7d97d3",
   "metadata": {},
   "source": [
    "\n",
    "<a href=\"1_spark_in_parallel.ipynb\" style=\"background-color:blue;color:white;padding:10px;margin:2px;font-weight:bold;\">Next Notebook</a>\n"
   ]
  }
 ],
 "metadata": {
  "colab": {
   "provenance": []
  },
  "kernelspec": {
   "display_name": "Python 3",
   "language": "python",
   "name": "python3"
  },
  "language_info": {
   "codemirror_mode": {
    "name": "ipython",
    "version": 3
   },
   "file_extension": ".py",
   "mimetype": "text/x-python",
   "name": "python",
   "nbconvert_exporter": "python",
   "pygments_lexer": "ipython3",
   "version": "3.8.1"
  }
 },
 "nbformat": 4,
 "nbformat_minor": 5
}
