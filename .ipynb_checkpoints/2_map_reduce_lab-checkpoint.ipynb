{
 "cells": [
  {
   "cell_type": "markdown",
   "id": "25b58c6d",
   "metadata": {
    "id": "demographic-technology"
   },
   "source": [
    "# Map Reduce Lab"
   ]
  },
  {
   "cell_type": "markdown",
   "id": "79b81db1",
   "metadata": {
    "id": "athletic-period"
   },
   "source": [
    "### Introduction"
   ]
  },
  {
   "cell_type": "markdown",
   "id": "8def3c4e",
   "metadata": {
    "id": "spanish-memorabilia"
   },
   "source": [
    "In this lesson, we'll practice working with Pyspark by looking at sales at different grocery store chains.  Let's get started."
   ]
  },
  {
   "cell_type": "markdown",
   "id": "0353ca82",
   "metadata": {
    "id": "prescription-heath"
   },
   "source": [
    "### Getting Setup (On Google Colab)"
   ]
  },
  {
   "cell_type": "markdown",
   "id": "6ab56c17",
   "metadata": {
    "id": "documentary-aerospace"
   },
   "source": [
    "* Begin by installing some pip packages and the java development kit."
   ]
  },
  {
   "cell_type": "code",
   "execution_count": null,
   "id": "0ba09ec6",
   "metadata": {
    "id": "proper-router"
   },
   "outputs": [],
   "source": [
    "!pip install pyspark --quiet\n",
    "!pip install -U -q PyDrive --quiet \n",
    "!apt install openjdk-8-jdk-headless &> /dev/null"
   ]
  },
  {
   "cell_type": "markdown",
   "id": "9e874c4b",
   "metadata": {
    "id": "colored-electron"
   },
   "source": [
    "* Then set the java environmental variable"
   ]
  },
  {
   "cell_type": "code",
   "execution_count": null,
   "id": "15af4c1f",
   "metadata": {
    "id": "streaming-finish"
   },
   "outputs": [],
   "source": [
    "import os\n",
    "os.environ[\"JAVA_HOME\"] = \"/usr/lib/jvm/java-8-openjdk-amd64\""
   ]
  },
  {
   "cell_type": "markdown",
   "id": "a8ca6cbd",
   "metadata": {
    "id": "equipped-python"
   },
   "source": [
    "* Then connect to a SparkSession, setting the spark ui port to `4050`."
   ]
  },
  {
   "cell_type": "code",
   "execution_count": null,
   "id": "ac710619",
   "metadata": {
    "id": "loaded-worst"
   },
   "outputs": [],
   "source": [
    "from pyspark import SparkContext, SparkConf\n",
    "\n",
    "conf = SparkConf().set('spark.ui.port', '4050').setAppName(\"netflix\").setMaster(\"local[2]\")\n",
    "sc = SparkContext.getOrCreate(conf=conf)"
   ]
  },
  {
   "cell_type": "markdown",
   "id": "7b61e8aa",
   "metadata": {
    "id": "powerful-stereo"
   },
   "source": [
    "* Then we need to install ngrok which will allow us to place our local spark ui on the web."
   ]
  },
  {
   "cell_type": "code",
   "execution_count": null,
   "id": "134eb7d1",
   "metadata": {
    "id": "typical-creator"
   },
   "outputs": [],
   "source": [
    "!wget https://bin.equinox.io/c/4VmDzA7iaHb/ngrok-stable-linux-amd64.zip &> /dev/null\n",
    "!unzip ngrok-stable-linux-amd64.zip &> /dev/null\n",
    "get_ipython().system_raw('./ngrok http 4050 &')"
   ]
  },
  {
   "cell_type": "markdown",
   "id": "53f0ada2",
   "metadata": {
    "id": "sensitive-henry"
   },
   "source": [
    "* And finally we get a link our Spark UI"
   ]
  },
  {
   "cell_type": "code",
   "execution_count": null,
   "id": "772ab7e7",
   "metadata": {
    "id": "expected-andrew"
   },
   "outputs": [],
   "source": [
    "!curl -s http://localhost:4040/api/tunnels | python3 -c \\\n",
    "    \"import sys, json; print(json.load(sys.stdin)['tunnels'][0]['public_url'])\""
   ]
  },
  {
   "cell_type": "markdown",
   "id": "ef7f7189",
   "metadata": {
    "id": "overhead-refund"
   },
   "source": [
    "### Creating our RDD"
   ]
  },
  {
   "cell_type": "markdown",
   "id": "a53c41e8",
   "metadata": {
    "id": "powerful-atlantic"
   },
   "source": [
    "Now to create our RDD, we'll load in some data from a pandas dataframe, and convert this dataframe to a list of dictionaries."
   ]
  },
  {
   "cell_type": "code",
   "execution_count": null,
   "id": "81011a12",
   "metadata": {
    "id": "restricted-baghdad"
   },
   "outputs": [],
   "source": [
    "import pandas as pd\n",
    "\n",
    "df = pd.read_csv('s3://jigsaw-labs-student/supermarket_sales.csv')\n",
    "sales = df.to_dict('records')"
   ]
  },
  {
   "cell_type": "code",
   "execution_count": null,
   "id": "19778f51",
   "metadata": {
    "id": "curious-spice",
    "outputId": "00778b64-dc2f-4b5f-fae3-d51a5879bf0e"
   },
   "outputs": [
    {
     "data": {
      "text/plain": [
       "[{'Invoice ID': '750-67-8428',\n",
       "  'Branch': 'A',\n",
       "  'City': 'Yangon',\n",
       "  'Customer type': 'Member',\n",
       "  'Gender': 'Female',\n",
       "  'Product line': 'Health and beauty',\n",
       "  'Unit price': 74.69,\n",
       "  'Quantity': 7,\n",
       "  'Tax 5%': 26.1415,\n",
       "  'Total': 548.9715,\n",
       "  'Date': '1/5/2019',\n",
       "  'Time': '13:08',\n",
       "  'Payment': 'Ewallet',\n",
       "  'cogs': 522.83,\n",
       "  'gross margin percentage': 4.761904762,\n",
       "  'gross income': 26.1415,\n",
       "  'Rating': 9.1}]"
      ]
     },
     "execution_count": 2,
     "metadata": {},
     "output_type": "execute_result"
    }
   ],
   "source": [
    "sales[:1]"
   ]
  },
  {
   "cell_type": "markdown",
   "id": "5daace5b",
   "metadata": {
    "id": "alpine-spelling"
   },
   "source": [
    "Ok, so currently, our `sales` is a list of dictionaries.  Turn this list of dictionaries into an RDD by calling the `parallelize` method and passing in the list of dictionaries."
   ]
  },
  {
   "cell_type": "code",
   "execution_count": null,
   "id": "ff5e0df9",
   "metadata": {
    "id": "acquired-adoption"
   },
   "outputs": [],
   "source": [
    "sales_rdd = None"
   ]
  },
  {
   "cell_type": "code",
   "execution_count": null,
   "id": "d9bddece",
   "metadata": {
    "id": "spatial-cooperative",
    "outputId": "a709db1b-6dea-41d9-f9bb-97ed4fddb538"
   },
   "outputs": [
    {
     "data": {
      "text/plain": [
       "ParallelCollectionRDD[11] at readRDDFromFile at PythonRDD.scala:274"
      ]
     },
     "execution_count": 40,
     "metadata": {},
     "output_type": "execute_result"
    }
   ],
   "source": [
    "sales_rdd\n",
    "# ParallelCollectionRDD[4] at readRDDFromFile at PythonRDD"
   ]
  },
  {
   "cell_type": "markdown",
   "id": "bd3304b6",
   "metadata": {
    "id": "eight-encounter"
   },
   "source": [
    "> We can see that we have 1000 records."
   ]
  },
  {
   "cell_type": "code",
   "execution_count": null,
   "id": "b664922d",
   "metadata": {
    "id": "optional-documentary",
    "outputId": "65d5c9f5-5a3b-41c1-a3dc-7cbcb4c5e28f"
   },
   "outputs": [
    {
     "data": {
      "text/plain": [
       "1000"
      ]
     },
     "execution_count": 41,
     "metadata": {},
     "output_type": "execute_result"
    }
   ],
   "source": [
    "sales_rdd.count()"
   ]
  },
  {
   "cell_type": "markdown",
   "id": "bf084348",
   "metadata": {
    "id": "fallen-particle"
   },
   "source": [
    "Now let's see the number of partitions for our rdd."
   ]
  },
  {
   "cell_type": "code",
   "execution_count": null,
   "id": "54c50065",
   "metadata": {
    "id": "geological-deadline",
    "outputId": "c398948a-1447-40a4-fe5b-edca6a40d779"
   },
   "outputs": [
    {
     "data": {
      "text/plain": [
       "2"
      ]
     },
     "execution_count": 42,
     "metadata": {},
     "output_type": "execute_result"
    }
   ],
   "source": [
    "\n",
    "# 2"
   ]
  },
  {
   "cell_type": "markdown",
   "id": "59a86895",
   "metadata": {
    "id": "efficient-bench"
   },
   "source": [
    "Ok, so now let's filter for only branch b (below you only need to use the `filter` method.  We'll call the `collect` method for you later on)."
   ]
  },
  {
   "cell_type": "code",
   "execution_count": null,
   "id": "eeab5efa",
   "metadata": {
    "id": "found-carry"
   },
   "outputs": [],
   "source": [
    "branch_b = None"
   ]
  },
  {
   "cell_type": "code",
   "execution_count": null,
   "id": "64efe52a",
   "metadata": {
    "id": "relevant-soviet",
    "outputId": "ad3947ee-9fa9-4714-c3ba-3a531e026c4b"
   },
   "outputs": [
    {
     "data": {
      "text/plain": [
       "{'Invoice ID': '692-92-5582',\n",
       " 'Branch': 'B',\n",
       " 'City': 'Mandalay',\n",
       " 'Customer type': 'Member',\n",
       " 'Gender': 'Female',\n",
       " 'Product line': 'Food and beverages',\n",
       " 'Unit price': 54.84,\n",
       " 'Quantity': 3,\n",
       " 'Tax 5%': 8.226,\n",
       " 'Total': 172.746,\n",
       " 'Date': '2/20/2019',\n",
       " 'Time': '13:27',\n",
       " 'Payment': 'Credit card',\n",
       " 'cogs': 164.52,\n",
       " 'gross margin percentage': 4.761904762,\n",
       " 'gross income': 8.226,\n",
       " 'Rating': 5.9}"
      ]
     },
     "execution_count": 37,
     "metadata": {},
     "output_type": "execute_result"
    }
   ],
   "source": [
    "branch_b.collect()[0]\n",
    "# [{'Invoice ID': '692-92-5582',\n",
    "#   'Branch': 'B',\n",
    "#   'City': 'Mandalay',\n",
    "#   'Customer type': 'Member',\n",
    "#   'Gender': 'Female',\n",
    "#   'Product line': 'Food and beverages',\n",
    "#   'Unit price': 54.84,\n",
    "#   'Quantity': 3,\n",
    "#   'Tax 5%': 8.226,\n",
    "#   'Total': 172.746,\n",
    "#   'Date': '2/20/2019',\n",
    "#   'Time': '13:27',\n",
    "#   'Payment': 'Credit card',\n",
    "#   'cogs': 164.52,\n",
    "#   'gross margin percentage': 4.761904762,\n",
    "#   'gross income': 8.226,\n",
    "#   'Rating': 5.9}]"
   ]
  },
  {
   "cell_type": "markdown",
   "id": "4451c1e1",
   "metadata": {
    "id": "planned-burke"
   },
   "source": [
    "Ok, so from here, let's take a look at the spark ui.  We can look at the spark ui by simply typing in the spark context, and from there clicking on the link to the spark ui. \n",
    "\n",
    "> We can also directly go to http://localhost:4040, which is the designated port for spark ui."
   ]
  },
  {
   "cell_type": "code",
   "execution_count": null,
   "id": "3b4b1a7c",
   "metadata": {
    "id": "continuous-message",
    "outputId": "4c2f1eb5-4bcc-406a-b2e6-2dd5889db98c"
   },
   "outputs": [
    {
     "data": {
      "text/html": [
       "\n",
       "        <div>\n",
       "            <p><b>SparkContext</b></p>\n",
       "\n",
       "            <p><a href=\"http://jeffreys-air.home:4040\">Spark UI</a></p>\n",
       "\n",
       "            <dl>\n",
       "              <dt>Version</dt>\n",
       "                <dd><code>v3.1.1</code></dd>\n",
       "              <dt>Master</dt>\n",
       "                <dd><code>local[2]</code></dd>\n",
       "              <dt>AppName</dt>\n",
       "                <dd><code>groceryStores</code></dd>\n",
       "            </dl>\n",
       "        </div>\n",
       "        "
      ],
      "text/plain": [
       "<SparkContext master=local[2] appName=groceryStores>"
      ]
     },
     "execution_count": 38,
     "metadata": {},
     "output_type": "execute_result"
    }
   ],
   "source": [
    "sc"
   ]
  },
  {
   "cell_type": "markdown",
   "id": "f6a2b412",
   "metadata": {
    "id": "collected-jefferson"
   },
   "source": [
    "When we click on the spark ui, we should see a number of jobs listed.  As we know, the job  at the top is the most recent job that was called.  Click on the most recent job and view the DAG."
   ]
  },
  {
   "cell_type": "markdown",
   "id": "b0f99ce7",
   "metadata": {
    "id": "judicial-beach"
   },
   "source": [
    "<img src=\"https://github.com/jigsawlabs-student/pyspark-map-reduce-lab/blob/main/dag_parallel.png?raw=1\" width=\"20%\">"
   ]
  },
  {
   "cell_type": "markdown",
   "id": "6524f9a5",
   "metadata": {
    "id": "sustainable-rendering"
   },
   "source": [
    "From there, click on the stage that has parallelize to dig a bit deeper into this."
   ]
  },
  {
   "cell_type": "markdown",
   "id": "ae00e3f3",
   "metadata": {
    "id": "informal-twist"
   },
   "source": [
    "<img src=\"https://github.com/jigsawlabs-student/pyspark-map-reduce-lab/blob/main/dag_collect.png?raw=1\" width=\"40%\">"
   ]
  },
  {
   "cell_type": "markdown",
   "id": "839d64be",
   "metadata": {
    "id": "coastal-contract"
   },
   "source": [
    "So here it looks like Spark has first created a partitioned dataset with the RDD.  It says `readRDDFromFile`, but this is when it reads from our list of dictionaries. And then we can see that we returned a PythonRDD.  This is the list of dictionaries that was returned to us when we called `collect()`. \n",
    "\n",
    "> So above, Spark applied the filter function across the two partitions of the dataset, and then returned the results in the Python list of dictionaries in Python.  \n",
    "\n",
    "We can see that this was performed in parallel, if we scroll down and view the event timeline."
   ]
  },
  {
   "cell_type": "markdown",
   "id": "5dace2e0",
   "metadata": {
    "id": "suited-anniversary"
   },
   "source": [
    "<img src=\"https://github.com/jigsawlabs-student/pyspark-map-reduce-lab/blob/main/green_parallel.png?raw=1\" width=\"80%\">"
   ]
  },
  {
   "cell_type": "markdown",
   "id": "9b026e84",
   "metadata": {
    "id": "magnetic-conversation"
   },
   "source": [
    "So notice, here, we see two lines, each of them represents a task run on a separate core.  Also, notice that these tasks overlab with one another, indicating that they were run in parallel."
   ]
  },
  {
   "cell_type": "markdown",
   "id": "5b3a0cab",
   "metadata": {
    "id": "julian-lebanon"
   },
   "source": [
    "> If we look at the color coding, we can see that we see a blue for scheduling of tasks, and a longer green line for the compute time."
   ]
  },
  {
   "cell_type": "markdown",
   "id": "6930b0f2",
   "metadata": {
    "id": "streaming-angel"
   },
   "source": [
    "### Seeing our Shuffle"
   ]
  },
  {
   "cell_type": "markdown",
   "id": "2edf0057",
   "metadata": {
    "id": "competitive-proposal"
   },
   "source": [
    "Ok, now let's run a procedure that will result in shuffle.  For us, this is our group by.  We can begin with our `sales_rdd`, and from there let's group by the stores, and count the number of sales in each store."
   ]
  },
  {
   "cell_type": "markdown",
   "id": "8ba11c16",
   "metadata": {
    "id": "through-damage"
   },
   "source": [
    "> To see the results, end with a call to `collect()`."
   ]
  },
  {
   "cell_type": "code",
   "execution_count": null,
   "id": "77912440",
   "metadata": {
    "id": "mechanical-rabbit",
    "outputId": "eb0a42cc-275f-4e38-9ab8-7633838048e5"
   },
   "outputs": [
    {
     "data": {
      "text/plain": [
       "[('C', 328), ('A', 340), ('B', 332)]"
      ]
     },
     "execution_count": 49,
     "metadata": {},
     "output_type": "execute_result"
    }
   ],
   "source": [
    "\n",
    "\n",
    "# [('C', 328), ('A', 340), ('B', 332)]"
   ]
  },
  {
   "cell_type": "markdown",
   "id": "7dd14651",
   "metadata": {
    "id": "known-highlight"
   },
   "source": [
    "After getting the correct result, take a look at the spark ui to see what occurred in the job.  For our most recent job, we should see something like the following:"
   ]
  },
  {
   "cell_type": "markdown",
   "id": "c2eb84ce",
   "metadata": {
    "id": "norman-arabic"
   },
   "source": [
    "<img src=\"https://github.com/jigsawlabs-student/pyspark-map-reduce-lab/blob/main/dag_viz.png?raw=1\" width=\"40%\">"
   ]
  },
  {
   "cell_type": "markdown",
   "id": "feba7d6f",
   "metadata": {
    "id": "facial-passenger"
   },
   "source": [
    "And then below we see the following."
   ]
  },
  {
   "cell_type": "markdown",
   "id": "6a9eef40",
   "metadata": {
    "id": "declared-penny"
   },
   "source": [
    "<img src=\"https://github.com/jigsawlabs-student/pyspark-map-reduce-lab/blob/main/completed_stage.png?raw=1\" width=\"90%\">"
   ]
  },
  {
   "cell_type": "markdown",
   "id": "113c8467",
   "metadata": {
    "id": "indirect-audience"
   },
   "source": [
    "So the first step was the `groupBy`, which occurred in parallel.  And then in the following stage partitionBy and mapPartitions occurred --  this was the count function. Let's take a closer look at the first stage -- which has the `parallelize`."
   ]
  },
  {
   "cell_type": "markdown",
   "id": "bf40f156",
   "metadata": {
    "id": "normal-reason"
   },
   "source": [
    "<img src=\"https://github.com/jigsawlabs-student/pyspark-map-reduce-lab/blob/main/groupby_stage.png?raw=1\" width=\"60%\">"
   ]
  },
  {
   "cell_type": "markdown",
   "id": "b3ad52ef",
   "metadata": {
    "id": "documentary-light"
   },
   "source": [
    "And on the same panel we can see the event timeline."
   ]
  },
  {
   "cell_type": "markdown",
   "id": "922fb88f",
   "metadata": {
    "id": "designing-insertion"
   },
   "source": [
    "<img src=\"https://github.com/jigsawlabs-student/pyspark-map-reduce-lab/blob/main/shuffle_event.png?raw=1\" width=\"100%\">"
   ]
  },
  {
   "cell_type": "markdown",
   "id": "0919a3da",
   "metadata": {
    "id": "convenient-oracle"
   },
   "source": [
    "So looking at the event timeliene, we can see that first the compute finds the records by the branch, and then, in yellow, we see that the shuffle occurs to repartition the the records by key.  "
   ]
  },
  {
   "cell_type": "markdown",
   "id": "3747a1d1",
   "metadata": {
    "id": "imposed-fellow"
   },
   "source": [
    "### Summary"
   ]
  },
  {
   "cell_type": "markdown",
   "id": "d04a6904",
   "metadata": {
    "id": "breeding-glossary"
   },
   "source": [
    "In this lab, we practiced working with Pyspark, and using the Spark UI to see the operations that occur, even when we call relatively simple methods.  We saw that by partitioning our data, methods like `filter` are performed in parallel.  And we can see that by looking at the tasks performede in a stage, and seeing that they occur simultaneously.  \n",
    "\n",
    "Then, we performed a groupby, which as we know results in shuffling.  This means that our data needs to be repartitioned, and often transferred between worker nodes to perform the operation.  We saw the shuffling occur, by taking a closer look at the stage that performed the groupby and looking at the event timeline."
   ]
  },
  {
   "cell_type": "markdown",
   "id": "104cceee",
   "metadata": {
    "id": "unnecessary-northwest"
   },
   "source": [
    "<img src=\"https://github.com/jigsawlabs-student/pyspark-map-reduce-lab/blob/main/shuffle_event.png?raw=1\" width=\"100%\">"
   ]
  },
  {
   "cell_type": "markdown",
   "id": "64fc7cc2",
   "metadata": {
    "id": "related-divide"
   },
   "source": [
    "### Resouorces"
   ]
  },
  {
   "cell_type": "markdown",
   "id": "bd659ef5",
   "metadata": {
    "id": "atlantic-symbol"
   },
   "source": [
    "[From Google Cloud to Pyspark](https://medium.com/@kashif.sohail/read-files-from-google-cloud-storage-bucket-using-local-pyspark-and-jupyter-notebooks-f8bd43f4b42e)"
   ]
  },
  {
   "cell_type": "markdown",
   "id": "b062331d",
   "metadata": {},
   "source": [
    "<a href=\"2_selecting_rows.ipynb\" style=\"background-color:blue;color:white;padding:10px;margin:2px;font-weight:bold;\">Next Notebook</a>"
   ]
  }
 ],
 "metadata": {
  "colab": {
   "provenance": []
  },
  "kernelspec": {
   "display_name": "Python 3",
   "language": "python",
   "name": "python3"
  },
  "language_info": {
   "codemirror_mode": {
    "name": "ipython",
    "version": 3
   },
   "file_extension": ".py",
   "mimetype": "text/x-python",
   "name": "python",
   "nbconvert_exporter": "python",
   "pygments_lexer": "ipython3",
   "version": "3.8.1"
  }
 },
 "nbformat": 4,
 "nbformat_minor": 5
}
