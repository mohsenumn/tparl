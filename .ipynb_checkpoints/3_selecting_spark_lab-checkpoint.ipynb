{
 "cells": [
  {
   "cell_type": "markdown",
   "id": "e2ea996a",
   "metadata": {
    "id": "ignored-explanation"
   },
   "source": [
    "# Selecting with Spark Lab"
   ]
  },
  {
   "cell_type": "markdown",
   "id": "98a215b0",
   "metadata": {
    "id": "experimental-upgrade"
   },
   "source": [
    "### Introduction"
   ]
  },
  {
   "cell_type": "markdown",
   "id": "593f63c9",
   "metadata": {
    "id": "classified-holder"
   },
   "source": [
    "In this lesson, we'll work with dataframes to explore a dataset.  Let's get started."
   ]
  },
  {
   "cell_type": "markdown",
   "id": "739ce893",
   "metadata": {
    "id": "floating-trinity"
   },
   "source": [
    "### Getting Set Up (For Google Colab)"
   ]
  },
  {
   "cell_type": "markdown",
   "id": "3a095be6",
   "metadata": {
    "id": "chinese-castle"
   },
   "source": [
    "> If we are running this on google colab, we can run the following to eventually interact with our Spark UI."
   ]
  },
  {
   "cell_type": "markdown",
   "id": "707c627f",
   "metadata": {
    "id": "monthly-heritage"
   },
   "source": [
    "* Begin by installing some pip packages and the java development kit."
   ]
  },
  {
   "cell_type": "code",
   "execution_count": null,
   "id": "44517317",
   "metadata": {
    "id": "acting-silver"
   },
   "outputs": [],
   "source": [
    "!pip install pyspark --quiet\n",
    "!pip install -U -q PyDrive --quiet \n",
    "!apt install openjdk-8-jdk-headless &> /dev/null"
   ]
  },
  {
   "cell_type": "markdown",
   "id": "233d940f",
   "metadata": {
    "id": "fluid-packing"
   },
   "source": [
    "* Then set the java environmental variable"
   ]
  },
  {
   "cell_type": "code",
   "execution_count": null,
   "id": "7aa25c46",
   "metadata": {
    "id": "binary-original"
   },
   "outputs": [],
   "source": [
    "import os\n",
    "os.environ[\"JAVA_HOME\"] = \"/usr/lib/jvm/java-8-openjdk-amd64\""
   ]
  },
  {
   "cell_type": "markdown",
   "id": "6c8fa6c6",
   "metadata": {
    "id": "chinese-silence"
   },
   "source": [
    "* Then connect to a SparkSession, setting the spark ui port to `4050`."
   ]
  },
  {
   "cell_type": "code",
   "execution_count": null,
   "id": "4b94ee6d",
   "metadata": {
    "id": "under-arrow"
   },
   "outputs": [],
   "source": [
    "from pyspark.sql import SparkSession\n",
    "\n",
    "spark = SparkSession \\\n",
    "    .builder \\\n",
    "    .appName(\"civComplaints\") \\\n",
    "    .config(\"spark.ui.port\", \"4050\") \\\n",
    "    .getOrCreate()"
   ]
  },
  {
   "cell_type": "markdown",
   "id": "f877d9c6",
   "metadata": {
    "id": "bacterial-detective"
   },
   "source": [
    "* Then we need to install ngrok which will allow us to place our local spark ui on the web."
   ]
  },
  {
   "cell_type": "code",
   "execution_count": null,
   "id": "77bc0d7a",
   "metadata": {
    "id": "irish-hamilton"
   },
   "outputs": [],
   "source": [
    "!wget https://bin.equinox.io/c/4VmDzA7iaHb/ngrok-stable-linux-amd64.zip &> /dev/null\n",
    "!unzip ngrok-stable-linux-amd64.zip &> /dev/null\n",
    "get_ipython().system_raw('./ngrok http 4050 &')"
   ]
  },
  {
   "cell_type": "markdown",
   "id": "fc1cb3e8",
   "metadata": {
    "id": "optical-finger"
   },
   "source": [
    "* And finally we get a link our Spark UI"
   ]
  },
  {
   "cell_type": "code",
   "execution_count": null,
   "id": "2afb799a",
   "metadata": {
    "id": "directed-desktop"
   },
   "outputs": [],
   "source": [
    "!curl -s http://localhost:4040/api/tunnels | python3 -c \\\n",
    "    \"import sys, json; print(json.load(sys.stdin)['tunnels'][0]['public_url'])\""
   ]
  },
  {
   "cell_type": "markdown",
   "id": "75980ee8",
   "metadata": {
    "id": "gothic-attraction"
   },
   "source": [
    "### Loading the Data"
   ]
  },
  {
   "cell_type": "markdown",
   "id": "b36de097",
   "metadata": {
    "id": "conceptual-gothic"
   },
   "source": [
    "And now let's view open up the Spark UI, so we can see what's occurring as we use Spark.  If we are running in a google colab click the link above.  Or if running on your local computer, type in `spark`, we'll see a link to our Spark UI. "
   ]
  },
  {
   "cell_type": "code",
   "execution_count": null,
   "id": "c52295a9",
   "metadata": {
    "id": "dated-shipping",
    "outputId": "3b4bf787-545c-4a5d-9b33-209857d44895"
   },
   "outputs": [
    {
     "data": {
      "text/html": [
       "\n",
       "            <div>\n",
       "                <p><b>SparkSession - in-memory</b></p>\n",
       "                \n",
       "        <div>\n",
       "            <p><b>SparkContext</b></p>\n",
       "\n",
       "            <p><a href=\"http://jeffreys-air.home:4040\">Spark UI</a></p>\n",
       "\n",
       "            <dl>\n",
       "              <dt>Version</dt>\n",
       "                <dd><code>v3.1.1</code></dd>\n",
       "              <dt>Master</dt>\n",
       "                <dd><code>local[*]</code></dd>\n",
       "              <dt>AppName</dt>\n",
       "                <dd><code>Python Spark SQL basic example</code></dd>\n",
       "            </dl>\n",
       "        </div>\n",
       "        \n",
       "            </div>\n",
       "        "
      ],
      "text/plain": [
       "<pyspark.sql.session.SparkSession at 0x1432ab940>"
      ]
     },
     "execution_count": 9,
     "metadata": {},
     "output_type": "execute_result"
    }
   ],
   "source": [
    "spark"
   ]
  },
  {
   "cell_type": "markdown",
   "id": "bd3cea1d",
   "metadata": {
    "id": "attached-burton"
   },
   "source": [
    "Ok, with our Spark UI opened in a new tab, it's time to begin loading our data.  We'll first load up our data into a pandas dataframe."
   ]
  },
  {
   "cell_type": "code",
   "execution_count": null,
   "id": "9e54f207",
   "metadata": {
    "id": "inclusive-fourth"
   },
   "outputs": [],
   "source": [
    "url = \"s3://jigsaw-labs/civ_complaints.csv\"\n",
    "import pandas as pd\n",
    "df = pd.read_csv(url).astype(str)"
   ]
  },
  {
   "cell_type": "markdown",
   "id": "f031206c",
   "metadata": {
    "id": "extended-design"
   },
   "source": [
    "And now, we'll need to convert this into a spark dataframe."
   ]
  },
  {
   "cell_type": "code",
   "execution_count": null,
   "id": "238d89ff",
   "metadata": {
    "id": "removable-colors"
   },
   "outputs": [],
   "source": [
    "complaints_df = None"
   ]
  },
  {
   "cell_type": "code",
   "execution_count": null,
   "id": "64231dd9",
   "metadata": {
    "id": "diverse-generator",
    "outputId": "64c2835f-f39a-4d6d-d182-cde245dcd162"
   },
   "outputs": [
    {
     "data": {
      "text/plain": [
       "DataFrame[Extract Run Date: string, Randomized Id: string, CCRB Received Year: string, Days Between Incident Date and Received Date: string, Case Type: string, Complaint Received Place: string, Complaint Received Mode: string, Borough Of Incident: string, Patrol Borough Of Incident: string, Reason For Initial Contact: string]"
      ]
     },
     "execution_count": 23,
     "metadata": {},
     "output_type": "execute_result"
    }
   ],
   "source": [
    "complaints_df\n",
    "# DataFrame[Extract Run Date: string, Randomized Id: string, \n",
    "# CCRB Received Year: string, Days Between Incident Date and Received Date: string,\n",
    "# Case Type: string, Complaint Received Place: string, \n",
    "# Complaint Received Mode: string, Borough Of Incident: string, \n",
    "# Patrol Borough Of Incident: string, Reason For Initial Contact: string]"
   ]
  },
  {
   "cell_type": "markdown",
   "id": "6e07b3c9",
   "metadata": {
    "id": "endless-launch"
   },
   "source": [
    "So we can begin to see some of the columns that we have some of our dataset."
   ]
  },
  {
   "cell_type": "markdown",
   "id": "ef7cc1c4",
   "metadata": {
    "id": "adjacent-korea"
   },
   "source": [
    "### Exploring Data"
   ]
  },
  {
   "cell_type": "markdown",
   "id": "9559b401",
   "metadata": {
    "id": "existing-network"
   },
   "source": [
    "Let's get a better sense by displaying the schema."
   ]
  },
  {
   "cell_type": "code",
   "execution_count": null,
   "id": "14508c05",
   "metadata": {
    "id": "ongoing-leonard",
    "outputId": "225ef0b8-3804-4e80-a045-901c0fbc2b58"
   },
   "outputs": [
    {
     "name": "stdout",
     "output_type": "stream",
     "text": [
      "root\n",
      " |-- Extract Run Date: string (nullable = true)\n",
      " |-- Randomized Id: string (nullable = true)\n",
      " |-- CCRB Received Year: string (nullable = true)\n",
      " |-- Days Between Incident Date and Received Date: string (nullable = true)\n",
      " |-- Case Type: string (nullable = true)\n",
      " |-- Complaint Received Place: string (nullable = true)\n",
      " |-- Complaint Received Mode: string (nullable = true)\n",
      " |-- Borough Of Incident: string (nullable = true)\n",
      " |-- Patrol Borough Of Incident: string (nullable = true)\n",
      " |-- Reason For Initial Contact: string (nullable = true)\n",
      "\n"
     ]
    }
   ],
   "source": []
  },
  {
   "cell_type": "markdown",
   "id": "15c7d28d",
   "metadata": {
    "id": "fitted-boutique"
   },
   "source": [
    "Let's also display the first two records of our dataset, and set vertical to `True`."
   ]
  },
  {
   "cell_type": "code",
   "execution_count": null,
   "id": "80babbe2",
   "metadata": {
    "id": "special-family",
    "outputId": "0fb8fc58-2be7-42ad-d32c-5dfb5cb6b50c"
   },
   "outputs": [
    {
     "name": "stdout",
     "output_type": "stream",
     "text": [
      "-RECORD 0------------------------------------------------------------\n",
      " Extract Run Date                             | 05/25/2018           \n",
      " Randomized Id                                | 1                    \n",
      " CCRB Received Year                           | 2000                 \n",
      " Days Between Incident Date and Received Date | 2.0                  \n",
      " Case Type                                    | IAB                  \n",
      " Complaint Received Place                     | CCRB                 \n",
      " Complaint Received Mode                      | Phone                \n",
      " Borough Of Incident                          | Bronx                \n",
      " Patrol Borough Of Incident                   | Bronx                \n",
      " Reason For Initial Contact                   | PD suspected C/V ... \n",
      "-RECORD 1------------------------------------------------------------\n",
      " Extract Run Date                             | 05/25/2018           \n",
      " Randomized Id                                | 2                    \n",
      " CCRB Received Year                           | 2000                 \n",
      " Days Between Incident Date and Received Date | 86.0                 \n",
      " Case Type                                    | OCD                  \n",
      " Complaint Received Place                     | Other NYPD unit      \n",
      " Complaint Received Mode                      | In-person            \n",
      " Borough Of Incident                          | Brooklyn             \n",
      " Patrol Borough Of Incident                   | Brooklyn North       \n",
      " Reason For Initial Contact                   | Parking violation    \n",
      "-RECORD 2------------------------------------------------------------\n",
      " Extract Run Date                             | 05/25/2018           \n",
      " Randomized Id                                | 3                    \n",
      " CCRB Received Year                           | 2000                 \n",
      " Days Between Incident Date and Received Date | 0.0                  \n",
      " Case Type                                    | OCD                  \n",
      " Complaint Received Place                     | CCRB                 \n",
      " Complaint Received Mode                      | Phone                \n",
      " Borough Of Incident                          | Queens               \n",
      " Patrol Borough Of Incident                   | Other                \n",
      " Reason For Initial Contact                   | nan                  \n",
      "only showing top 3 rows\n",
      "\n"
     ]
    }
   ],
   "source": []
  },
  {
   "cell_type": "markdown",
   "id": "7ecf0e25",
   "metadata": {
    "id": "regulation-action"
   },
   "source": [
    "Now take a look at the Spark UI.  View the most recent job, and click on the Stage to get a more detailed view of the steps in the stage."
   ]
  },
  {
   "cell_type": "markdown",
   "id": "37d92b4b",
   "metadata": {
    "id": "victorian-welding"
   },
   "source": [
    "> Notice that the first step was `readRDDFromFile`, so our data was loaded in this stage, and then later on we see an `applySchemaToPythonRDD`, where it seems that our columns were formatted.  After these steps, then the printing of the first few rows occurred."
   ]
  },
  {
   "cell_type": "markdown",
   "id": "e9ba5096",
   "metadata": {
    "id": "tough-candy"
   },
   "source": [
    "> <img src=\"https://github.com/jigsawlabs-student/pyspark-dataframes/blob/main/dag_viz_print.png?raw=1\" width=\"40%\">"
   ]
  },
  {
   "cell_type": "markdown",
   "id": "1a81af18",
   "metadata": {
    "id": "metallic-heater"
   },
   "source": [
    "Also, if we take a look at the tasks, we can see that only one of the cores was used for this call."
   ]
  },
  {
   "cell_type": "markdown",
   "id": "e0ad2ec0",
   "metadata": {
    "id": "powered-comparison"
   },
   "source": [
    "> <img src=\"https://github.com/jigsawlabs-student/pyspark-dataframes/blob/main/total_tasks.png?raw=1\" width=\"90%\">"
   ]
  },
  {
   "cell_type": "markdown",
   "id": "2a5253e0",
   "metadata": {
    "id": "agricultural-perth"
   },
   "source": [
    "### Viewing Columns"
   ]
  },
  {
   "cell_type": "markdown",
   "id": "e7d54e17",
   "metadata": {
    "id": "furnished-truth"
   },
   "source": [
    "Ok, so now let's select narrow down our data by just displaying a couple of columns.  We can view the various columns by viewing the `columns` attribute of our dataframe."
   ]
  },
  {
   "cell_type": "code",
   "execution_count": null,
   "id": "67004b97",
   "metadata": {
    "id": "brief-calendar",
    "outputId": "0cb98494-c407-4443-e5ac-dfde7e879576"
   },
   "outputs": [
    {
     "data": {
      "text/plain": [
       "['Extract Run Date',\n",
       " 'Randomized Id',\n",
       " 'CCRB Received Year',\n",
       " 'Days Between Incident Date and Received Date',\n",
       " 'Case Type',\n",
       " 'Complaint Received Place',\n",
       " 'Complaint Received Mode',\n",
       " 'Borough Of Incident',\n",
       " 'Patrol Borough Of Incident',\n",
       " 'Reason For Initial Contact']"
      ]
     },
     "execution_count": 29,
     "metadata": {},
     "output_type": "execute_result"
    }
   ],
   "source": [
    "\n",
    "\n",
    "# ['Extract Run Date',\n",
    "#  'Randomized Id',\n",
    "#  'CCRB Received Year',\n",
    "#  'Days Between Incident Date and Received Date',\n",
    "#  'Case Type',\n",
    "#  'Complaint Received Place',\n",
    "#  'Complaint Received Mode',\n",
    "#  'Borough Of Incident',\n",
    "#  'Patrol Borough Of Incident',\n",
    "#  'Reason For Initial Contact']"
   ]
  },
  {
   "cell_type": "markdown",
   "id": "39125036",
   "metadata": {
    "id": "magnetic-cotton"
   },
   "source": [
    "And from here, let's just select the `Borough of Incident` column.  And display the first 3 results."
   ]
  },
  {
   "cell_type": "code",
   "execution_count": null,
   "id": "12e2f584",
   "metadata": {
    "id": "going-cleaner",
    "outputId": "58e076a2-3431-4bd6-f4fe-cf343d8aface"
   },
   "outputs": [
    {
     "name": "stdout",
     "output_type": "stream",
     "text": [
      "+-------------------+\n",
      "|Borough of Incident|\n",
      "+-------------------+\n",
      "|              Bronx|\n",
      "|           Brooklyn|\n",
      "|             Queens|\n",
      "+-------------------+\n",
      "only showing top 3 rows\n",
      "\n"
     ]
    }
   ],
   "source": [
    "\n",
    "# +-------------------+\n",
    "# |Borough of Incident|\n",
    "# +-------------------+\n",
    "# |              Bronx|\n",
    "# |           Brooklyn|\n",
    "# |             Queens|\n",
    "# +-------------------+\n",
    "# only showing top 3 rows\n"
   ]
  },
  {
   "cell_type": "markdown",
   "id": "6b4543f1",
   "metadata": {
    "id": "competent-istanbul"
   },
   "source": [
    "Ok, now let's select both the `Borough of Incident` and the `Reason for Initial Contact`, and display the first three rows. "
   ]
  },
  {
   "cell_type": "code",
   "execution_count": null,
   "id": "dfed010a",
   "metadata": {
    "id": "impressive-haven",
    "outputId": "8a0c68fb-8f27-4f1a-f224-c80510166a03"
   },
   "outputs": [
    {
     "name": "stdout",
     "output_type": "stream",
     "text": [
      "+-------------------+--------------------------+\n",
      "|Borough of Incident|Reason For Initial Contact|\n",
      "+-------------------+--------------------------+\n",
      "|              Bronx|      PD suspected C/V ...|\n",
      "|           Brooklyn|         Parking violation|\n",
      "|             Queens|                       nan|\n",
      "+-------------------+--------------------------+\n",
      "only showing top 3 rows\n",
      "\n"
     ]
    }
   ],
   "source": [
    "complaints_df.select(['Borough of Incident', 'Reason For Initial Contact']).show(3)"
   ]
  },
  {
   "cell_type": "markdown",
   "id": "ebb5c84f",
   "metadata": {
    "id": "defined-reality"
   },
   "source": [
    "### Selecting Rows"
   ]
  },
  {
   "cell_type": "markdown",
   "id": "6f63c020",
   "metadata": {
    "id": "super-invalid"
   },
   "source": [
    "Now that we've practiced selecting our columns, let's also select our rows.  So to begin, select all of the complaints located in `Brooklyn`, and display the first two results vertically."
   ]
  },
  {
   "cell_type": "code",
   "execution_count": null,
   "id": "dbe12175",
   "metadata": {
    "id": "distinguished-fruit",
    "outputId": "db75f4c1-2cf4-47bf-8e03-b0caeb523097"
   },
   "outputs": [
    {
     "name": "stdout",
     "output_type": "stream",
     "text": [
      "-RECORD 0---------------------------------------------------------\n",
      " Extract Run Date                             | 05/25/2018        \n",
      " Randomized Id                                | 2                 \n",
      " CCRB Received Year                           | 2000              \n",
      " Days Between Incident Date and Received Date | 86.0              \n",
      " Case Type                                    | OCD               \n",
      " Complaint Received Place                     | Other NYPD unit   \n",
      " Complaint Received Mode                      | In-person         \n",
      " Borough Of Incident                          | Brooklyn          \n",
      " Patrol Borough Of Incident                   | Brooklyn North    \n",
      " Reason For Initial Contact                   | Parking violation \n",
      "-RECORD 1---------------------------------------------------------\n",
      " Extract Run Date                             | 05/25/2018        \n",
      " Randomized Id                                | 6                 \n",
      " CCRB Received Year                           | 2000              \n",
      " Days Between Incident Date and Received Date | 1.0               \n",
      " Case Type                                    | CCRB              \n",
      " Complaint Received Place                     | CCRB              \n",
      " Complaint Received Mode                      | Phone             \n",
      " Borough Of Incident                          | Brooklyn          \n",
      " Patrol Borough Of Incident                   | Brooklyn South    \n",
      " Reason For Initial Contact                   | Other             \n",
      "only showing top 2 rows\n",
      "\n"
     ]
    }
   ],
   "source": [
    "\n",
    "\n",
    "# -RECORD 0---------------------------------------------------------\n",
    "#  Extract Run Date                             | 05/25/2018        \n",
    "#  Randomized Id                                | 2                 \n",
    "#  CCRB Received Year                           | 2000              \n",
    "#  Days Between Incident Date and Received Date | 86.0              \n",
    "#  Case Type                                    | OCD               \n",
    "#  Complaint Received Place                     | Other NYPD unit   \n",
    "#  Complaint Received Mode                      | In-person         \n",
    "#  Borough Of Incident                          | Brooklyn          \n",
    "#  Patrol Borough Of Incident                   | Brooklyn North    \n",
    "#  Reason For Initial Contact                   | Parking violation \n",
    "# -RECORD 1---------------------------------------------------------\n",
    "#  Extract Run Date                             | 05/25/2018        \n",
    "#  Randomized Id                                | 6                 \n",
    "#  CCRB Received Year                           | 2000              \n",
    "#  Days Between Incident Date and Received Date | 1.0               \n",
    "#  Case Type                                    | CCRB              \n",
    "#  Complaint Received Place                     | CCRB              \n",
    "#  Complaint Received Mode                      | Phone             \n",
    "#  Borough Of Incident                          | Brooklyn          \n",
    "#  Patrol Borough Of Incident                   | Brooklyn South    \n",
    "#  Reason For Initial Contact                   | Other             \n",
    "# only showing top 2 rows"
   ]
  },
  {
   "cell_type": "markdown",
   "id": "89bee868",
   "metadata": {
    "id": "inappropriate-governor"
   },
   "source": [
    "Ok, let's say we only care about the `Reason For Initial Contact` in Brooklyn.  So this time, select only the incidents that occurred in Brooklyn, and only select the `Borough of Incident` and `Reason For Initial Contact` columns.  Display the first 5 results."
   ]
  },
  {
   "cell_type": "code",
   "execution_count": null,
   "id": "d052a333",
   "metadata": {
    "id": "surgical-circumstances",
    "outputId": "fe764242-b68b-41c2-d860-9534917847ea"
   },
   "outputs": [
    {
     "name": "stdout",
     "output_type": "stream",
     "text": [
      "+-------------------+--------------------------+\n",
      "|Borough of Incident|Reason For Initial Contact|\n",
      "+-------------------+--------------------------+\n",
      "|           Brooklyn|         Parking violation|\n",
      "|           Brooklyn|                     Other|\n",
      "|           Brooklyn|      Other violation o...|\n",
      "|           Brooklyn|                       nan|\n",
      "|           Brooklyn|      PD suspected C/V ...|\n",
      "+-------------------+--------------------------+\n",
      "only showing top 5 rows\n",
      "\n"
     ]
    }
   ],
   "source": [
    "\n",
    "\n",
    "# +-------------------+--------------------------+\n",
    "# |Borough of Incident|Reason For Initial Contact|\n",
    "# +-------------------+--------------------------+\n",
    "# |           Brooklyn|         Parking violation|\n",
    "# |           Brooklyn|                     Other|\n",
    "# |           Brooklyn|      Other violation o...|\n",
    "# |           Brooklyn|                       nan|\n",
    "# |           Brooklyn|      PD suspected C/V ...|\n",
    "# +-------------------+--------------------------+\n",
    "# only showing top 5 rows"
   ]
  },
  {
   "cell_type": "markdown",
   "id": "6da7b870",
   "metadata": {
    "id": "broadband-judge"
   },
   "source": [
    "Finally, note that in our list of columns we do have an `Randomized Id`."
   ]
  },
  {
   "cell_type": "code",
   "execution_count": null,
   "id": "e18240fe",
   "metadata": {
    "id": "convertible-housing",
    "outputId": "09ea4577-54bf-4ac4-ce68-c401489b621e"
   },
   "outputs": [
    {
     "data": {
      "text/plain": [
       "['Extract Run Date',\n",
       " 'Randomized Id',\n",
       " 'CCRB Received Year',\n",
       " 'Days Between Incident Date and Received Date',\n",
       " 'Case Type',\n",
       " 'Complaint Received Place',\n",
       " 'Complaint Received Mode',\n",
       " 'Borough Of Incident',\n",
       " 'Patrol Borough Of Incident',\n",
       " 'Reason For Initial Contact']"
      ]
     },
     "execution_count": 44,
     "metadata": {},
     "output_type": "execute_result"
    }
   ],
   "source": [
    "complaints_df.columns"
   ]
  },
  {
   "cell_type": "markdown",
   "id": "a38f0e73",
   "metadata": {
    "id": "chicken-ceiling"
   },
   "source": [
    "So let's practice selecting a row of data by that id.  Select the record with the randomized id equal to `200`, and display the result vertically."
   ]
  },
  {
   "cell_type": "code",
   "execution_count": null,
   "id": "f10034a1",
   "metadata": {
    "id": "manual-slovakia",
    "outputId": "4949c70d-a4d7-47a1-9913-8c4708f81ffa"
   },
   "outputs": [
    {
     "name": "stdout",
     "output_type": "stream",
     "text": [
      "-RECORD 0--------------------------------------------------\n",
      " Extract Run Date                             | 05/25/2018 \n",
      " Randomized Id                                | 200        \n",
      " CCRB Received Year                           | 2000       \n",
      " Days Between Incident Date and Received Date | 9.0        \n",
      " Case Type                                    | OCD        \n",
      " Complaint Received Place                     | IAB        \n",
      " Complaint Received Mode                      | Phone      \n",
      " Borough Of Incident                          | Queens     \n",
      " Patrol Borough Of Incident                   | Other      \n",
      " Reason For Initial Contact                   | nan        \n",
      "\n"
     ]
    }
   ],
   "source": [
    "\n",
    "\n",
    "# -RECORD 0--------------------------------------------------\n",
    "#  Extract Run Date                             | 05/25/2018 \n",
    "#  Randomized Id                                | 200        \n",
    "#  CCRB Received Year                           | 2000       \n",
    "#  Days Between Incident Date and Received Date | 9.0        \n",
    "#  Case Type                                    | OCD        \n",
    "#  Complaint Received Place                     | IAB        \n",
    "#  Complaint Received Mode                      | Phone      \n",
    "#  Borough Of Incident                          | Queens     \n",
    "#  Patrol Borough Of Incident                   | Other      \n",
    "#  Reason For Initial Contact                   | nan   "
   ]
  },
  {
   "cell_type": "markdown",
   "id": "06b6cde3",
   "metadata": {
    "id": "colonial-potato"
   },
   "source": [
    "So even though Spark does not allow us to access a record with an index, we still can filter through the records to find a match."
   ]
  },
  {
   "cell_type": "markdown",
   "id": "4c73f3aa",
   "metadata": {
    "id": "occasional-aside"
   },
   "source": [
    "### Summary"
   ]
  },
  {
   "cell_type": "markdown",
   "id": "53b0ad43",
   "metadata": {
    "id": "prospective-london"
   },
   "source": [
    "In this lesson, we practiced understanding the spark calls in a Spark dataframe, and did so by displaying a few rows of data and then looking at the DAG in the Spark UI.  From there we practiced using various Spark methods like the following:"
   ]
  },
  {
   "cell_type": "markdown",
   "id": "5d52d55a",
   "metadata": {
    "id": "voluntary-blackjack"
   },
   "source": [
    "* `printSchema` to display the schema\n",
    "* `columns` to list just the columns\n",
    "* `select` to select specific columns\n",
    "* `df[df[column] == 'value']` to select specific rows"
   ]
  },
  {
   "cell_type": "markdown",
   "id": "683c8f9b",
   "metadata": {},
   "source": [
    "<a href=\"3_Spark_RDDs_Lab.ipynb\" style=\"background-color:blue;color:white;padding:10px;margin:2px;font-weight:bold;\">Next Notebook</a>\n"
   ]
  }
 ],
 "metadata": {
  "colab": {
   "provenance": []
  },
  "kernelspec": {
   "display_name": "Python 3",
   "language": "python",
   "name": "python3"
  },
  "language_info": {
   "codemirror_mode": {
    "name": "ipython",
    "version": 3
   },
   "file_extension": ".py",
   "mimetype": "text/x-python",
   "name": "python",
   "nbconvert_exporter": "python",
   "pygments_lexer": "ipython3",
   "version": "3.8.1"
  }
 },
 "nbformat": 4,
 "nbformat_minor": 5
}
