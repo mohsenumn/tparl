{
 "cells": [
  {
   "cell_type": "markdown",
   "id": "c33d59f9",
   "metadata": {
    "id": "equal-school"
   },
   "source": [
    "# Selecting Rows"
   ]
  },
  {
   "cell_type": "markdown",
   "id": "e4185e7d",
   "metadata": {
    "id": "printable-interest"
   },
   "source": [
    "### Introduction"
   ]
  },
  {
   "cell_type": "markdown",
   "id": "78e9ab68",
   "metadata": {
    "id": "alternative-screening"
   },
   "source": [
    "In this lesson, we'll work selecting data across multiple rows."
   ]
  },
  {
   "cell_type": "markdown",
   "id": "2bad1719",
   "metadata": {
    "id": "freelance-validation"
   },
   "source": [
    "### Selecting by rows"
   ]
  },
  {
   "cell_type": "code",
   "execution_count": null,
   "id": "2bbdb82b",
   "metadata": {
    "id": "eleven-official"
   },
   "outputs": [],
   "source": [
    "from pyspark.sql import SparkSession\n",
    "\n",
    "spark = SparkSession \\\n",
    "    .builder \\\n",
    "    .appName(\"Python Spark SQL basic example\") \\\n",
    "    .config(\"spark.some.config.option\", \"some-value\") \\\n",
    "    .getOrCreate()"
   ]
  },
  {
   "cell_type": "code",
   "execution_count": null,
   "id": "4af31517",
   "metadata": {
    "id": "fifty-camcorder"
   },
   "outputs": [],
   "source": [
    "movies = [{'index': 1,\n",
    "  'title': 'Shazam!',\n",
    "  'release_date': 1553299200,\n",
    "  'genre': 'Comedy'}, {'index': 2,\n",
    "  'title': 'Captain Marvel',\n",
    "  'release_date': 1551830400,\n",
    "  'genre': 'Action'},  {'index': 3,\n",
    "  'title': 'Escape Room',\n",
    "  'release_date': 1546473600,\n",
    "  'genre': 'Horror'}, {'index': 4,\n",
    "  'title': 'How to Train A Dragon',\n",
    "  'release_date': 1546473600,\n",
    "  'genre': 'Animation'}]"
   ]
  },
  {
   "cell_type": "code",
   "execution_count": null,
   "id": "ecd4281b",
   "metadata": {
    "id": "lesbian-distributor"
   },
   "outputs": [],
   "source": [
    "movies_df = spark.createDataFrame(movies)"
   ]
  },
  {
   "cell_type": "code",
   "execution_count": null,
   "id": "396081ae",
   "metadata": {
    "id": "heated-replication",
    "outputId": "9300f6bf-0a60-4a81-86f0-11991589e27e"
   },
   "outputs": [
    {
     "name": "stdout",
     "output_type": "stream",
     "text": [
      "+---------+-----+------------+--------------------+\n",
      "|    genre|index|release_date|               title|\n",
      "+---------+-----+------------+--------------------+\n",
      "|   Comedy|    1|  1553299200|             Shazam!|\n",
      "|   Action|    2|  1551830400|      Captain Marvel|\n",
      "|   Horror|    3|  1546473600|         Escape Room|\n",
      "|Animation|    4|  1546473600|How to Train A Dr...|\n",
      "+---------+-----+------------+--------------------+\n",
      "\n"
     ]
    }
   ],
   "source": [
    "movies_df.show()"
   ]
  },
  {
   "cell_type": "markdown",
   "id": "53242d73",
   "metadata": {
    "id": "weird-crisis"
   },
   "source": [
    "The only way to do so is to `filter` rows for those that have an index of 1.  Here's how: "
   ]
  },
  {
   "cell_type": "code",
   "execution_count": null,
   "id": "7bae4de2",
   "metadata": {
    "id": "wicked-pollution",
    "outputId": "cc65df26-4de6-4f55-86f3-6a6b31349762"
   },
   "outputs": [
    {
     "name": "stdout",
     "output_type": "stream",
     "text": [
      "+------+-----+------------+-------+\n",
      "| genre|index|release_date|  title|\n",
      "+------+-----+------------+-------+\n",
      "|Comedy|    1|  1553299200|Shazam!|\n",
      "+------+-----+------------+-------+\n",
      "\n"
     ]
    }
   ],
   "source": [
    "movies_df[movies_df['index'] == 1].show()"
   ]
  },
  {
   "cell_type": "markdown",
   "id": "b4029929",
   "metadata": {
    "id": "established-violation"
   },
   "source": [
    "### Breaking it down in pandas"
   ]
  },
  {
   "cell_type": "markdown",
   "id": "c28f940b",
   "metadata": {
    "id": "sharp-concentration"
   },
   "source": [
    "Now understanding why the above works in PySpark is a little complicated to see.  It's actually easier if we briefly switch over to Pandas."
   ]
  },
  {
   "cell_type": "markdown",
   "id": "d7395c43",
   "metadata": {
    "id": "dietary-serbia"
   },
   "source": [
    "> Pandas is a Python library that also allows us to easily create dataframes.  But unlike Pyspark, it does not work with distributed datasets."
   ]
  },
  {
   "cell_type": "markdown",
   "id": "e15567f8",
   "metadata": {
    "id": "skilled-bottle"
   },
   "source": [
    "The operation in to select by a row, is quite similar.  We first import the pandas library and create the dataframe."
   ]
  },
  {
   "cell_type": "code",
   "execution_count": null,
   "id": "1c4395d2",
   "metadata": {
    "id": "athletic-worry",
    "outputId": "370c897e-7d87-4f31-bbbe-ffece03842d0"
   },
   "outputs": [
    {
     "data": {
      "text/html": [
       "<div>\n",
       "<style scoped>\n",
       "    .dataframe tbody tr th:only-of-type {\n",
       "        vertical-align: middle;\n",
       "    }\n",
       "\n",
       "    .dataframe tbody tr th {\n",
       "        vertical-align: top;\n",
       "    }\n",
       "\n",
       "    .dataframe thead th {\n",
       "        text-align: right;\n",
       "    }\n",
       "</style>\n",
       "<table border=\"1\" class=\"dataframe\">\n",
       "  <thead>\n",
       "    <tr style=\"text-align: right;\">\n",
       "      <th></th>\n",
       "      <th>index</th>\n",
       "      <th>title</th>\n",
       "      <th>release_date</th>\n",
       "      <th>genre</th>\n",
       "    </tr>\n",
       "  </thead>\n",
       "  <tbody>\n",
       "    <tr>\n",
       "      <th>0</th>\n",
       "      <td>1</td>\n",
       "      <td>Shazam!</td>\n",
       "      <td>1553299200</td>\n",
       "      <td>Comedy</td>\n",
       "    </tr>\n",
       "    <tr>\n",
       "      <th>1</th>\n",
       "      <td>2</td>\n",
       "      <td>Captain Marvel</td>\n",
       "      <td>1551830400</td>\n",
       "      <td>Action</td>\n",
       "    </tr>\n",
       "    <tr>\n",
       "      <th>2</th>\n",
       "      <td>3</td>\n",
       "      <td>Escape Room</td>\n",
       "      <td>1546473600</td>\n",
       "      <td>Horror</td>\n",
       "    </tr>\n",
       "    <tr>\n",
       "      <th>3</th>\n",
       "      <td>4</td>\n",
       "      <td>How to Train A Dragon</td>\n",
       "      <td>1546473600</td>\n",
       "      <td>Animation</td>\n",
       "    </tr>\n",
       "  </tbody>\n",
       "</table>\n",
       "</div>"
      ],
      "text/plain": [
       "   index                  title  release_date      genre\n",
       "0      1                Shazam!    1553299200     Comedy\n",
       "1      2         Captain Marvel    1551830400     Action\n",
       "2      3            Escape Room    1546473600     Horror\n",
       "3      4  How to Train A Dragon    1546473600  Animation"
      ]
     },
     "execution_count": 10,
     "metadata": {},
     "output_type": "execute_result"
    }
   ],
   "source": [
    "import pandas as pd\n",
    "\n",
    "df = pd.DataFrame(movies)\n",
    "df"
   ]
  },
  {
   "cell_type": "markdown",
   "id": "91a0c087",
   "metadata": {
    "id": "varied-sacrifice"
   },
   "source": [
    "And then we select the rows whose index is 1."
   ]
  },
  {
   "cell_type": "code",
   "execution_count": null,
   "id": "5fe1bedc",
   "metadata": {
    "id": "missing-borough",
    "outputId": "ef3ff64c-9d5c-4789-dce4-48fe8adc523a"
   },
   "outputs": [
    {
     "data": {
      "text/html": [
       "<div>\n",
       "<style scoped>\n",
       "    .dataframe tbody tr th:only-of-type {\n",
       "        vertical-align: middle;\n",
       "    }\n",
       "\n",
       "    .dataframe tbody tr th {\n",
       "        vertical-align: top;\n",
       "    }\n",
       "\n",
       "    .dataframe thead th {\n",
       "        text-align: right;\n",
       "    }\n",
       "</style>\n",
       "<table border=\"1\" class=\"dataframe\">\n",
       "  <thead>\n",
       "    <tr style=\"text-align: right;\">\n",
       "      <th></th>\n",
       "      <th>index</th>\n",
       "      <th>title</th>\n",
       "      <th>release_date</th>\n",
       "      <th>genre</th>\n",
       "    </tr>\n",
       "  </thead>\n",
       "  <tbody>\n",
       "    <tr>\n",
       "      <th>0</th>\n",
       "      <td>1</td>\n",
       "      <td>Shazam!</td>\n",
       "      <td>1553299200</td>\n",
       "      <td>Comedy</td>\n",
       "    </tr>\n",
       "  </tbody>\n",
       "</table>\n",
       "</div>"
      ],
      "text/plain": [
       "   index    title  release_date   genre\n",
       "0      1  Shazam!    1553299200  Comedy"
      ]
     },
     "execution_count": 11,
     "metadata": {},
     "output_type": "execute_result"
    }
   ],
   "source": [
    "df[df['index'] == 1]"
   ]
  },
  {
   "cell_type": "markdown",
   "id": "feee1366",
   "metadata": {
    "id": "forbidden-planner"
   },
   "source": [
    "So we can see that this is essentially the same way that we select by row in Pyspark."
   ]
  },
  {
   "cell_type": "markdown",
   "id": "2fa49744",
   "metadata": {
    "id": "rough-details"
   },
   "source": [
    "```python\n",
    "movies_df[movies_df['index'] == 1].show()\n",
    "```"
   ]
  },
  {
   "cell_type": "markdown",
   "id": "d236b782",
   "metadata": {
    "id": "pressing-verification"
   },
   "source": [
    "Ok, now let's explain why the pandas statement `df[df['index'] == 1]`.  The key is understanding the part inside of the square brackets."
   ]
  },
  {
   "cell_type": "code",
   "execution_count": null,
   "id": "3018880f",
   "metadata": {
    "id": "taken-honolulu",
    "outputId": "035d66d1-9488-4146-9e27-04d00ee80a22"
   },
   "outputs": [
    {
     "data": {
      "text/plain": [
       "0     True\n",
       "1    False\n",
       "2    False\n",
       "3    False\n",
       "Name: index, dtype: bool"
      ]
     },
     "execution_count": 13,
     "metadata": {},
     "output_type": "execute_result"
    }
   ],
   "source": [
    "df['index'] == 1"
   ]
  },
  {
   "cell_type": "markdown",
   "id": "edf0bdb4",
   "metadata": {
    "id": "cardiac-windows"
   },
   "source": [
    "Notice that this returns a column of `True` or `False` values.  And these values are based on whether that row's index equals 1.  So this is why only the first record returns True."
   ]
  },
  {
   "cell_type": "markdown",
   "id": "9a35e773",
   "metadata": {
    "id": "mounted-recovery"
   },
   "source": [
    "Then we pass this column of True or False values to the dataframe, and for each row where column's entry is True, we display that row."
   ]
  },
  {
   "cell_type": "code",
   "execution_count": null,
   "id": "032a7b71",
   "metadata": {
    "id": "amateur-brand",
    "outputId": "ae694342-1c9b-4f58-bdef-94faec4a42a8"
   },
   "outputs": [
    {
     "data": {
      "text/html": [
       "<div>\n",
       "<style scoped>\n",
       "    .dataframe tbody tr th:only-of-type {\n",
       "        vertical-align: middle;\n",
       "    }\n",
       "\n",
       "    .dataframe tbody tr th {\n",
       "        vertical-align: top;\n",
       "    }\n",
       "\n",
       "    .dataframe thead th {\n",
       "        text-align: right;\n",
       "    }\n",
       "</style>\n",
       "<table border=\"1\" class=\"dataframe\">\n",
       "  <thead>\n",
       "    <tr style=\"text-align: right;\">\n",
       "      <th></th>\n",
       "      <th>index</th>\n",
       "      <th>title</th>\n",
       "      <th>release_date</th>\n",
       "      <th>genre</th>\n",
       "    </tr>\n",
       "  </thead>\n",
       "  <tbody>\n",
       "    <tr>\n",
       "      <th>0</th>\n",
       "      <td>1</td>\n",
       "      <td>Shazam!</td>\n",
       "      <td>1553299200</td>\n",
       "      <td>Comedy</td>\n",
       "    </tr>\n",
       "  </tbody>\n",
       "</table>\n",
       "</div>"
      ],
      "text/plain": [
       "   index    title  release_date   genre\n",
       "0      1  Shazam!    1553299200  Comedy"
      ]
     },
     "execution_count": 15,
     "metadata": {},
     "output_type": "execute_result"
    }
   ],
   "source": [
    "df[df['index'] == 1]"
   ]
  },
  {
   "cell_type": "markdown",
   "id": "9cc2eb2f",
   "metadata": {
    "id": "brown-graphic"
   },
   "source": [
    "So we can imagine the above as passing `True, False, False, False` to the dataframe, to only display the first row above."
   ]
  },
  {
   "cell_type": "code",
   "execution_count": null,
   "id": "5399fe27",
   "metadata": {
    "id": "lovely-portal",
    "outputId": "fb8c30d4-ce17-40c2-b9e2-0831f7f85640"
   },
   "outputs": [
    {
     "data": {
      "text/html": [
       "<div>\n",
       "<style scoped>\n",
       "    .dataframe tbody tr th:only-of-type {\n",
       "        vertical-align: middle;\n",
       "    }\n",
       "\n",
       "    .dataframe tbody tr th {\n",
       "        vertical-align: top;\n",
       "    }\n",
       "\n",
       "    .dataframe thead th {\n",
       "        text-align: right;\n",
       "    }\n",
       "</style>\n",
       "<table border=\"1\" class=\"dataframe\">\n",
       "  <thead>\n",
       "    <tr style=\"text-align: right;\">\n",
       "      <th></th>\n",
       "      <th>index</th>\n",
       "      <th>title</th>\n",
       "      <th>release_date</th>\n",
       "      <th>genre</th>\n",
       "    </tr>\n",
       "  </thead>\n",
       "  <tbody>\n",
       "    <tr>\n",
       "      <th>0</th>\n",
       "      <td>1</td>\n",
       "      <td>Shazam!</td>\n",
       "      <td>1553299200</td>\n",
       "      <td>Comedy</td>\n",
       "    </tr>\n",
       "  </tbody>\n",
       "</table>\n",
       "</div>"
      ],
      "text/plain": [
       "   index    title  release_date   genre\n",
       "0      1  Shazam!    1553299200  Comedy"
      ]
     },
     "execution_count": 17,
     "metadata": {},
     "output_type": "execute_result"
    }
   ],
   "source": [
    "bool_values = [True, False, False, False]\n",
    "\n",
    "df[bool_values]"
   ]
  },
  {
   "cell_type": "markdown",
   "id": "da8317ca",
   "metadata": {
    "id": "medical-translation"
   },
   "source": [
    "### Moving to Pyspark"
   ]
  },
  {
   "cell_type": "markdown",
   "id": "8d375bc8",
   "metadata": {
    "id": "forbidden-third"
   },
   "source": [
    "So selecting rows in Pyspark essentially works the same way.  We start with our dataframe."
   ]
  },
  {
   "cell_type": "code",
   "execution_count": null,
   "id": "5065b012",
   "metadata": {
    "id": "economic-brook",
    "outputId": "c8aa7bce-4dde-46d0-a656-4159a447ad59"
   },
   "outputs": [
    {
     "name": "stdout",
     "output_type": "stream",
     "text": [
      "+---------+-----+------------+--------------------+\n",
      "|    genre|index|release_date|               title|\n",
      "+---------+-----+------------+--------------------+\n",
      "|   Comedy|    1|  1553299200|             Shazam!|\n",
      "|   Action|    2|  1551830400|      Captain Marvel|\n",
      "|   Horror|    3|  1546473600|         Escape Room|\n",
      "|Animation|    4|  1546473600|How to Train A Dr...|\n",
      "+---------+-----+------------+--------------------+\n",
      "\n"
     ]
    }
   ],
   "source": [
    "movies_df.show()"
   ]
  },
  {
   "cell_type": "markdown",
   "id": "8a1b100f",
   "metadata": {
    "id": "characteristic-lucas"
   },
   "source": [
    "And then we can filter for rows where the index is 1 with the following."
   ]
  },
  {
   "cell_type": "code",
   "execution_count": null,
   "id": "0445d139",
   "metadata": {
    "id": "beginning-daughter",
    "outputId": "e45869ab-1328-4cf0-a6de-bcdaf9414d8c"
   },
   "outputs": [
    {
     "name": "stdout",
     "output_type": "stream",
     "text": [
      "+------+-----+------------+-------+\n",
      "| genre|index|release_date|  title|\n",
      "+------+-----+------------+-------+\n",
      "|Comedy|    1|  1553299200|Shazam!|\n",
      "+------+-----+------------+-------+\n",
      "\n"
     ]
    }
   ],
   "source": [
    "movies_df[movies_df['index'] == 1].show()"
   ]
  },
  {
   "cell_type": "markdown",
   "id": "603f9f3f",
   "metadata": {
    "id": "every-anger"
   },
   "source": [
    "Where we can imagine the middle brackets as returning True or False values for each row of the dataframe."
   ]
  },
  {
   "cell_type": "code",
   "execution_count": null,
   "id": "0996ddca",
   "metadata": {
    "id": "appreciated-history",
    "outputId": "0e285836-7aeb-4f53-e0ac-44814adfc50a"
   },
   "outputs": [
    {
     "data": {
      "text/plain": [
       "Column<'(index = 1)'>"
      ]
     },
     "execution_count": 20,
     "metadata": {},
     "output_type": "execute_result"
    }
   ],
   "source": [
    "movies_df['index'] == 1"
   ]
  },
  {
   "cell_type": "markdown",
   "id": "ee31b5cf",
   "metadata": {
    "id": "failing-pottery"
   },
   "source": [
    "### Summary"
   ]
  },
  {
   "cell_type": "markdown",
   "id": "b971dcd1",
   "metadata": {
    "id": "found-yellow"
   },
   "source": [
    "In this lesson, we learned how to select certain rows in a Pyspark dataframe.  As we saw, we do so with something like the following: "
   ]
  },
  {
   "cell_type": "code",
   "execution_count": null,
   "id": "48825c1c",
   "metadata": {
    "id": "disturbed-clause",
    "outputId": "84e9caaf-7ea9-42ab-fc17-501a1c2b2ff1"
   },
   "outputs": [
    {
     "name": "stdout",
     "output_type": "stream",
     "text": [
      "+------+-----+------------+-------+\n",
      "| genre|index|release_date|  title|\n",
      "+------+-----+------------+-------+\n",
      "|Comedy|    1|  1553299200|Shazam!|\n",
      "+------+-----+------------+-------+\n",
      "\n"
     ]
    }
   ],
   "source": [
    "movies_df[movies_df['index'] == 1].show()"
   ]
  },
  {
   "cell_type": "markdown",
   "id": "99a8ef7d",
   "metadata": {
    "id": "waiting-shell"
   },
   "source": [
    "And the key part is understanding the component in between the brackets."
   ]
  },
  {
   "cell_type": "code",
   "execution_count": null,
   "id": "eb6e4f14",
   "metadata": {
    "id": "structured-exercise",
    "outputId": "ca62fc5c-7eff-4b90-cd2d-0afaa3ff5eff"
   },
   "outputs": [
    {
     "data": {
      "text/plain": [
       "Column<'(index = 1)'>"
      ]
     },
     "execution_count": 23,
     "metadata": {},
     "output_type": "execute_result"
    }
   ],
   "source": [
    "movies_df['index'] == 1"
   ]
  },
  {
   "cell_type": "markdown",
   "id": "250494db",
   "metadata": {
    "id": "forward-least"
   },
   "source": [
    "We can imagine the code above returning a True or False value based on whether the value in the index column equals 1.  \n",
    "\n",
    "And then we pass this statement into our dataframe to return the records where the above statement returns True."
   ]
  },
  {
   "cell_type": "code",
   "execution_count": null,
   "id": "5935298f",
   "metadata": {
    "id": "distinguished-remove",
    "outputId": "b1f8b93d-b6bd-4e7b-aded-9e67847dbab7"
   },
   "outputs": [
    {
     "name": "stdout",
     "output_type": "stream",
     "text": [
      "+------+-----+------------+-------+\n",
      "| genre|index|release_date|  title|\n",
      "+------+-----+------------+-------+\n",
      "|Comedy|    1|  1553299200|Shazam!|\n",
      "+------+-----+------------+-------+\n",
      "\n"
     ]
    }
   ],
   "source": [
    "movies_df[movies_df['index'] == 1].show()"
   ]
  },
  {
   "cell_type": "markdown",
   "id": "9a2d4ec7",
   "metadata": {
    "id": "comprehensive-today"
   },
   "source": [
    "### Resources\n",
    "\n",
    "[Gitbook Understanding Spark](https://mallikarjuna_g.gitbooks.io/spark/content/spark-overview.html)"
   ]
  },
  {
   "cell_type": "markdown",
   "id": "7c7f472b",
   "metadata": {},
   "source": [
    "<a href=\"3_lazy_rdds.ipynb\" style=\"background-color:blue;color:white;padding:10px;margin:2px;font-weight:bold;\">Next Notebook</a>"
   ]
  }
 ],
 "metadata": {
  "colab": {
   "provenance": []
  },
  "kernelspec": {
   "display_name": "Python 3",
   "language": "python",
   "name": "python3"
  },
  "language_info": {
   "codemirror_mode": {
    "name": "ipython",
    "version": 3
   },
   "file_extension": ".py",
   "mimetype": "text/x-python",
   "name": "python",
   "nbconvert_exporter": "python",
   "pygments_lexer": "ipython3",
   "version": "3.8.1"
  }
 },
 "nbformat": 4,
 "nbformat_minor": 5
}
