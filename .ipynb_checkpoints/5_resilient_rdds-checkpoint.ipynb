{
 "cells": [
  {
   "cell_type": "markdown",
   "id": "7ac2e59c",
   "metadata": {
    "id": "naked-patrol"
   },
   "source": [
    "# Resilient RDDs"
   ]
  },
  {
   "cell_type": "markdown",
   "id": "534a0ce5",
   "metadata": {
    "id": "hidden-satisfaction"
   },
   "source": [
    "### Introduction"
   ]
  },
  {
   "cell_type": "markdown",
   "id": "2d2c1445",
   "metadata": {
    "id": "outdoor-specialist"
   },
   "source": [
    "In the last lessons we saw two of the main components of Spark.  We saw that Spark primarily saves it's data to memory, and that Spark stores a dataset distributed across executors, that query and operate on that data in parallel.  Spark calls this distributed data set a Resilient Distributed Dataset (RDD).\n",
    "\n",
    "Now, storing data distributed across nodes in memory comes with it's challenges -- mainly that if one of the nodes goes down, we'll want a way to recover the lost data, but of course in Spark that data is not saved to disk.  So in this lesson, we'll see how Spark does recover when data when a node goes down.  This should help to explain the *resilient* component of our Resilient Distributed Datasets. "
   ]
  },
  {
   "cell_type": "markdown",
   "id": "b84264ca",
   "metadata": {
    "id": "searching-pantyhose"
   },
   "source": [
    "### Building Fault Tolerance In Memory\n",
    "\n",
    "So as we know, the principal feature of Spark is that it provides for in memory storage.  Now in memory storage comes with some challenges -- mainly that even thouh we are not saving any updates to disk, we still want our spark cluster to be *fault tolerant*.  This means that even if one of our nodes goes down, we do not want the data on that node to be lost.\n",
    "\n",
    "Normally, distributed databases achieve this by copying partitions of the data to multiple nodes.  This way if one node goes down, there is still a backup."
   ]
  },
  {
   "cell_type": "markdown",
   "id": "25ae8186",
   "metadata": {
    "id": "wicked-distributor"
   },
   "source": [
    "> In the diagram below we can see that the `D` movies are copied to two different nodes."
   ]
  },
  {
   "cell_type": "markdown",
   "id": "c06d675a",
   "metadata": {
    "id": "controlling-telephone"
   },
   "source": [
    "<img src=\"https://github.com/jigsawlabs-student/pyspark-rdds/blob/main/copied_data.jpg?raw=1\" width=\"40%\">"
   ]
  },
  {
   "cell_type": "markdown",
   "id": "c1d185ab",
   "metadata": {
    "id": "appropriate-velvet"
   },
   "source": [
    "However, there are downsides to this approach:\n",
    "1. This copying takes up a significant amount of space, and \n",
    "2. It requires copying data over a the cluster's network, and oftentimes there may be narrow bandwidth to do so\n",
    "\n",
    "> The diagram below shows the copying process from one node to the other.  With a lot of data, and narrow bandwidth, this can be a slow process."
   ]
  },
  {
   "cell_type": "markdown",
   "id": "611decee",
   "metadata": {
    "id": "corrected-sustainability"
   },
   "source": [
    "> <img src=\"https://github.com/jigsawlabs-student/pyspark-rdds/blob/main/network_slow.jpg?raw=1\" width=\"60%\">"
   ]
  },
  {
   "cell_type": "markdown",
   "id": "051c0955",
   "metadata": {
    "id": "raising-leadership"
   },
   "source": [
    "In Spark things are done differently.  Instead of copying the data over, from one node to another, Spark instead keeps track of all of the steps to recreate our dataset in the driver node.  So if the node goes down, it can simply reapply those steps."
   ]
  },
  {
   "cell_type": "markdown",
   "id": "d8803208",
   "metadata": {
    "id": "dutch-alpha"
   },
   "source": [
    "We'll learn more about this in the next section."
   ]
  },
  {
   "cell_type": "markdown",
   "id": "284bc839",
   "metadata": {
    "id": "primary-missile"
   },
   "source": [
    "### Getting Setup (On Google Colab)"
   ]
  },
  {
   "cell_type": "markdown",
   "id": "1d80acbd",
   "metadata": {
    "id": "latin-saudi"
   },
   "source": [
    "* Begin by installing some pip packages and the java development kit."
   ]
  },
  {
   "cell_type": "code",
   "execution_count": null,
   "id": "4e8e59ae",
   "metadata": {
    "id": "disturbed-share"
   },
   "outputs": [],
   "source": [
    "!pip install pyspark --quiet\n",
    "!pip install -U -q PyDrive --quiet \n",
    "!apt install openjdk-8-jdk-headless &> /dev/null"
   ]
  },
  {
   "cell_type": "markdown",
   "id": "f8dbc80e",
   "metadata": {
    "id": "young-checklist"
   },
   "source": [
    "* Then set the java environmental variable"
   ]
  },
  {
   "cell_type": "code",
   "execution_count": null,
   "id": "9fa79af7",
   "metadata": {
    "id": "introductory-brand"
   },
   "outputs": [],
   "source": [
    "import os\n",
    "os.environ[\"JAVA_HOME\"] = \"/usr/lib/jvm/java-8-openjdk-amd64\""
   ]
  },
  {
   "cell_type": "markdown",
   "id": "2abcba2b",
   "metadata": {
    "id": "every-prospect"
   },
   "source": [
    "* Then connect to a SparkSession, setting the spark ui port to `4050`."
   ]
  },
  {
   "cell_type": "code",
   "execution_count": null,
   "id": "3e6d276e",
   "metadata": {
    "id": "british-bobby"
   },
   "outputs": [],
   "source": [
    "from pyspark import SparkContext, SparkConf\n",
    "\n",
    "conf = SparkConf().set('spark.ui.port', '4050').setAppName(\"films\").setMaster(\"local[2]\")\n",
    "sc = SparkContext.getOrCreate(conf=conf)"
   ]
  },
  {
   "cell_type": "markdown",
   "id": "65eb16b7",
   "metadata": {
    "id": "banner-oasis"
   },
   "source": [
    "* Then we need to install ngrok which will allow us to place our local spark ui on the web."
   ]
  },
  {
   "cell_type": "code",
   "execution_count": null,
   "id": "9735dbca",
   "metadata": {
    "id": "mineral-astronomy"
   },
   "outputs": [],
   "source": [
    "!wget https://bin.equinox.io/c/4VmDzA7iaHb/ngrok-stable-linux-amd64.zip &> /dev/null\n",
    "!unzip ngrok-stable-linux-amd64.zip &> /dev/null\n",
    "get_ipython().system_raw('./ngrok http 4050 &')"
   ]
  },
  {
   "cell_type": "markdown",
   "id": "302f4923",
   "metadata": {
    "id": "gross-mauritius"
   },
   "source": [
    "* And finally we get a link our Spark UI"
   ]
  },
  {
   "cell_type": "code",
   "execution_count": null,
   "id": "733b24f9",
   "metadata": {
    "id": "serious-madrid"
   },
   "outputs": [],
   "source": [
    "!curl -s http://localhost:4040/api/tunnels | python3 -c \\\n",
    "    \"import sys, json; print(json.load(sys.stdin)['tunnels'][0]['public_url'])\""
   ]
  },
  {
   "cell_type": "markdown",
   "id": "855a8acc",
   "metadata": {
    "id": "retired-stamp"
   },
   "source": [
    "### Viewing the Transformations"
   ]
  },
  {
   "cell_type": "markdown",
   "id": "b71680bd",
   "metadata": {
    "id": "unauthorized-finance"
   },
   "source": [
    "Let's get started by using our spark context to create an RDD."
   ]
  },
  {
   "cell_type": "code",
   "execution_count": null,
   "id": "948af928",
   "metadata": {
    "id": "massive-aberdeen"
   },
   "outputs": [],
   "source": [
    "movies = ['dark knight', 'dunkirk', 'pulp fiction', 'avatar']"
   ]
  },
  {
   "cell_type": "code",
   "execution_count": null,
   "id": "8be81961",
   "metadata": {
    "id": "recovered-tennis"
   },
   "outputs": [],
   "source": [
    "rdd = sc.parallelize(movies)"
   ]
  },
  {
   "cell_type": "markdown",
   "id": "a9d7c677",
   "metadata": {
    "id": "greater-stretch"
   },
   "source": [
    "This time we'll change our data.  We can do so by using the `map` function to capitalize each word in our list of movies."
   ]
  },
  {
   "cell_type": "code",
   "execution_count": null,
   "id": "d81adcb3",
   "metadata": {
    "id": "occupational-tiger",
    "outputId": "e48b76df-5dc2-4bab-b60a-8f1f64602c9e"
   },
   "outputs": [
    {
     "data": {
      "text/plain": [
       "['Dark Knight', 'Dunkirk', 'Pulp Fiction', 'Avatar']"
      ]
     },
     "execution_count": 5,
     "metadata": {},
     "output_type": "execute_result"
    }
   ],
   "source": [
    "rdd.map(lambda movie: movie.title()).collect()"
   ]
  },
  {
   "cell_type": "markdown",
   "id": "234d1f2e",
   "metadata": {
    "id": "standing-suicide"
   },
   "source": [
    "> So above, `movie` represents each title in the list, and we call `title` on each one to capitalize.  We see the results of the transformation with `collect`."
   ]
  },
  {
   "cell_type": "markdown",
   "id": "d141ad7f",
   "metadata": {
    "id": "amazing-origin"
   },
   "source": [
    "* Seeing it in the Spark UI"
   ]
  },
  {
   "cell_type": "markdown",
   "id": "55c61139",
   "metadata": {
    "id": "christian-record"
   },
   "source": [
    "Now we have seen how Spark records these transformations by looking at the Spark UI.  Let's take another look."
   ]
  },
  {
   "cell_type": "code",
   "execution_count": null,
   "id": "4668c31a",
   "metadata": {
    "id": "violent-producer",
    "outputId": "2c3451b5-27b5-4a98-bd2e-632dd625cb95"
   },
   "outputs": [
    {
     "data": {
      "text/html": [
       "\n",
       "        <div>\n",
       "            <p><b>SparkContext</b></p>\n",
       "\n",
       "            <p><a href=\"http://jeffreys-air.home:4040\">Spark UI</a></p>\n",
       "\n",
       "            <dl>\n",
       "              <dt>Version</dt>\n",
       "                <dd><code>v3.1.1</code></dd>\n",
       "              <dt>Master</dt>\n",
       "                <dd><code>local[2]</code></dd>\n",
       "              <dt>AppName</dt>\n",
       "                <dd><code>films</code></dd>\n",
       "            </dl>\n",
       "        </div>\n",
       "        "
      ],
      "text/plain": [
       "<SparkContext master=local[2] appName=films>"
      ]
     },
     "execution_count": 6,
     "metadata": {},
     "output_type": "execute_result"
    }
   ],
   "source": [
    "sc"
   ]
  },
  {
   "cell_type": "markdown",
   "id": "e242647a",
   "metadata": {
    "id": "similar-craps"
   },
   "source": [
    "> If we click on the Spark UI, and then the most recent Job, we can see the dag."
   ]
  },
  {
   "cell_type": "markdown",
   "id": "c15bfb28",
   "metadata": {
    "id": "friendly-fortune"
   },
   "source": [
    "> <img src=\"https://github.com/jigsawlabs-student/pyspark-rdds/blob/main/dag-viz.png?raw=1\" width=\"60%\">"
   ]
  },
  {
   "cell_type": "markdown",
   "id": "d0731d0f",
   "metadata": {
    "id": "forward-category"
   },
   "source": [
    "Now, underneath, Spark logs the transformation more in a more detailed manner than the UI illustrates.  But hopefully we can get the idea, that Spark tracks the transformations made on a dataset, from when it's read from an external dataset, to the ultimate output.  And if a node goes down, Spark can re-execute the steps on just that portion of the data."
   ]
  },
  {
   "cell_type": "markdown",
   "id": "7023ccc7",
   "metadata": {
    "id": "intelligent-completion"
   },
   "source": [
    "<img src=\"https://github.com/jigsawlabs-student/pyspark-rdds/blob/main/rdd_one_to_two.jpg?raw=1\" width=\"40%\">"
   ]
  },
  {
   "cell_type": "markdown",
   "id": "89bebfcb",
   "metadata": {
    "id": "packed-setting"
   },
   "source": [
    "The other thing to note is that when we apply a transformation to a dataset, we are actually creating a new RDD.  Again, we can see that in the DAG.  "
   ]
  },
  {
   "cell_type": "markdown",
   "id": "97552d57",
   "metadata": {
    "id": "powerful-measurement"
   },
   "source": [
    "> <img src=\"https://github.com/jigsawlabs-student/pyspark-rdds/blob/main/dag-viz.png?raw=1\" width=\"40%\">"
   ]
  },
  {
   "cell_type": "markdown",
   "id": "272c4d46",
   "metadata": {
    "id": "integrated-redhead"
   },
   "source": [
    "So we are never updating an RDD.  Our RDDs are read only, and whenever we filter or map through a dataset, we are creating a new RDD in the process.  "
   ]
  },
  {
   "cell_type": "markdown",
   "id": "5f2261fd",
   "metadata": {
    "id": "promising-factory"
   },
   "source": [
    "### Only Coarse Transformations\n",
    "\n",
    "Because keeping track of every tiny change that happens to a dataset takes some work, Spark limits the kinds of transformations we can apply.  Namely, when we apply changes, we must apply these changes to the *entire* RDD.  For example, above, we capitalized every record with the `map` function."
   ]
  },
  {
   "cell_type": "code",
   "execution_count": null,
   "id": "cefa7721",
   "metadata": {
    "id": "metric-syracuse",
    "outputId": "b05f9fba-a5f4-4d5a-d60d-5b777d0a0b71"
   },
   "outputs": [
    {
     "data": {
      "text/plain": [
       "['Dark Knight', 'Dunkirk', 'Pulp Fiction', 'Avatar']"
      ]
     },
     "execution_count": 21,
     "metadata": {},
     "output_type": "execute_result"
    }
   ],
   "source": [
    "rdd.map(lambda movie: movie.title()).collect()"
   ]
  },
  {
   "cell_type": "markdown",
   "id": "aa2635f0",
   "metadata": {
    "id": "referenced-selling"
   },
   "source": [
    "Or, with our RDDs, we can also go through every record, and only select those that begin with the letter `d`."
   ]
  },
  {
   "cell_type": "code",
   "execution_count": null,
   "id": "5340020d",
   "metadata": {
    "id": "enormous-proportion",
    "outputId": "0bba9610-bef7-4dd9-d177-3256b2f9c951"
   },
   "outputs": [
    {
     "data": {
      "text/plain": [
       "['dark knight', 'dunkirk']"
      ]
     },
     "execution_count": 31,
     "metadata": {},
     "output_type": "execute_result"
    }
   ],
   "source": [
    "rdd.filter(lambda movie: movie[0] == 'd').collect()"
   ]
  },
  {
   "cell_type": "markdown",
   "id": "865aae11",
   "metadata": {
    "id": "horizontal-relative"
   },
   "source": [
    "> But this is still considered an operation on the entire dataset because we search through every record."
   ]
  },
  {
   "cell_type": "markdown",
   "id": "7305a796",
   "metadata": {
    "id": "entire-chain"
   },
   "source": [
    "The point from above, though is that whether we use `map` or `filter`, each step applies to *every* record.  These types of transformations are called **coarse grained transformations** - and these are the only kinds of transformations that Spark allows.  If we were to select individual records and then make changes to them, this would be fine-grained transformations.  "
   ]
  },
  {
   "cell_type": "markdown",
   "id": "b20a6563",
   "metadata": {
    "id": "instrumental-modern"
   },
   "source": [
    "If we want to apply a transformation to a small subset of data, we'll need to first use a filter to select our matching records, and then apply the map function."
   ]
  },
  {
   "cell_type": "code",
   "execution_count": null,
   "id": "9435bc23",
   "metadata": {
    "id": "documentary-contest",
    "outputId": "6a6fe5e9-41ef-4812-e6ee-f3782a3290bc"
   },
   "outputs": [
    {
     "data": {
      "text/plain": [
       "['Dark Knight', 'Dunkirk']"
      ]
     },
     "execution_count": 11,
     "metadata": {},
     "output_type": "execute_result"
    }
   ],
   "source": [
    "rdd.filter(lambda movie: movie[0] == 'd').map(lambda movie: movie.title()).collect()"
   ]
  },
  {
   "cell_type": "markdown",
   "id": "f9015759",
   "metadata": {
    "id": "governmental-focus"
   },
   "source": [
    "<img src=\"https://github.com/jigsawlabs-student/pyspark-rdds/blob/main/filter_map.jpg?raw=1\" width=\"40%\">"
   ]
  },
  {
   "cell_type": "markdown",
   "id": "1c42fcee",
   "metadata": {
    "id": "mounted-weapon"
   },
   "source": [
    "### Summary"
   ]
  },
  {
   "cell_type": "markdown",
   "id": "33b208d3",
   "metadata": {
    "id": "accessory-hudson"
   },
   "source": [
    "So we saw in this lesson that Spark achieves fault tolerance by keeping a recording of the transformations needed to recreate our data.  Because the RDDs are read only, so when we transform our data, really we are creating a new RDD.  And Spark keeps track of the steps necessary to go from one transformation to the other.\n",
    "\n",
    "<img src=\"https://github.com/jigsawlabs-student/pyspark-rdds/blob/main/rdd_one_to_two.jpg?raw=1\" width=\"40%\">\n",
    "\n",
    "To make recording these steps easier, on Spark RDDs, we can only apply coarse grained transformations, which apply to the entire Spark dataset.  We'll learn more of these transformations in the following lesson, but to start, `map` which applies the same change to every record, and `filter` which selects from a set of elements are two coarse grained transformations."
   ]
  },
  {
   "cell_type": "markdown",
   "id": "21af7981",
   "metadata": {
    "id": "warming-terror"
   },
   "source": [
    "### Resources\n",
    "\n",
    "[Spark Debugging Minibook](https://cs.famaf.unc.edu.ar/~damian/tmp/bib/Mini%20eBook%20-%20Apache%20Spark%20Monitoring%20and%20Debugging.pdf)\n",
    "\n",
    "[Presenting RDDs](https://www.usenix.org/system/files/conference/nsdi12/nsdi12-final138.pdf)\n",
    "\n",
    "[RDD Programming Guide](https://spark.apache.org/docs/latest/rdd-programming-guide.html)"
   ]
  },
  {
   "cell_type": "markdown",
   "id": "a86c17cf",
   "metadata": {
    "id": "natural-cigarette"
   },
   "source": [
    "* [RDDs Simplified](https://vishnuviswanath.com/spark_rdd)\n",
    "\n",
    "* [Databricks RDDs](https://databricks.com/glossary/what-is-rdd)"
   ]
  },
  {
   "cell_type": "markdown",
   "id": "7459cfe9",
   "metadata": {
    "id": "developed-amber"
   },
   "source": [
    "[Databricks best practices](https://databricks.gitbooks.io/databricks-spark-knowledge-base/content/index.html)"
   ]
  },
  {
   "cell_type": "markdown",
   "id": "4c0a21a6",
   "metadata": {},
   "source": [
    "<a href=\"5_sql_to_spark_lab.ipynb\" style=\"background-color:blue;color:white;padding:10px;margin:2px;font-weight:bold;\">Next Notebook</a>"
   ]
  }
 ],
 "metadata": {
  "colab": {
   "provenance": []
  },
  "kernelspec": {
   "display_name": "Python 3",
   "language": "python",
   "name": "python3"
  },
  "language_info": {
   "codemirror_mode": {
    "name": "ipython",
    "version": 3
   },
   "file_extension": ".py",
   "mimetype": "text/x-python",
   "name": "python",
   "nbconvert_exporter": "python",
   "pygments_lexer": "ipython3",
   "version": "3.8.1"
  }
 },
 "nbformat": 4,
 "nbformat_minor": 5
}
