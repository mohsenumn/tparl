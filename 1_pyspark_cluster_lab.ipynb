{
 "cells": [
  {
   "cell_type": "markdown",
   "id": "a1686880",
   "metadata": {
    "id": "liquid-sender"
   },
   "source": [
    "# Pyspark Cluster Lab"
   ]
  },
  {
   "cell_type": "markdown",
   "id": "84796e18",
   "metadata": {
    "id": "systematic-tobago"
   },
   "source": [
    "### Introduction"
   ]
  },
  {
   "cell_type": "markdown",
   "id": "37433b24",
   "metadata": {
    "id": "sticky-remove"
   },
   "source": [
    "In this lesson, we'll practice connecting to a Pyspark cluster, and partitioning our dataset.  We'll do so by. working with a dataset of Netflix titles.  Let's get started."
   ]
  },
  {
   "cell_type": "markdown",
   "id": "28d67112",
   "metadata": {
    "id": "ethical-truck"
   },
   "source": [
    "### Getting Setup (On Google Colab)"
   ]
  },
  {
   "cell_type": "markdown",
   "id": "9735f83e",
   "metadata": {
    "id": "fallen-buddy"
   },
   "source": [
    "* Begin by installing some pip packages and the java development kit."
   ]
  },
  {
   "cell_type": "code",
   "execution_count": 3,
   "id": "c7f28b92",
   "metadata": {
    "id": "catholic-martin"
   },
   "outputs": [
    {
     "name": "stdout",
     "output_type": "stream",
     "text": [
      "\u001b[33mWARNING: You are using pip version 20.0.2; however, version 22.2.2 is available.\n",
      "You should consider upgrading via the '/Library/Frameworks/Python.framework/Versions/3.8/bin/python3.8 -m pip install --upgrade pip' command.\u001b[0m\n",
      "Note: you may need to restart the kernel to use updated packages.\n"
     ]
    }
   ],
   "source": [
    "pip install pyspark --quiet\n"
   ]
  },
  {
   "cell_type": "code",
   "execution_count": 4,
   "id": "a0d84c0b",
   "metadata": {},
   "outputs": [
    {
     "name": "stdout",
     "output_type": "stream",
     "text": [
      "Note: you may need to restart the kernel to use updated packages.\n"
     ]
    }
   ],
   "source": [
    "pip install -U -q PyDrive --quiet \n"
   ]
  },
  {
   "cell_type": "code",
   "execution_count": 6,
   "id": "0f0d5913",
   "metadata": {},
   "outputs": [],
   "source": [
    "\n",
    "!apt install openjdk-8-jdk-headless &> /dev/null"
   ]
  },
  {
   "cell_type": "markdown",
   "id": "f8b78b0b",
   "metadata": {
    "id": "wicked-demand"
   },
   "source": [
    "* Then set the java environmental variable"
   ]
  },
  {
   "cell_type": "code",
   "execution_count": 7,
   "id": "6e053d5f",
   "metadata": {
    "id": "broke-yahoo"
   },
   "outputs": [],
   "source": [
    "import os\n",
    "os.environ[\"JAVA_HOME\"] = \"/usr/lib/jvm/java-8-openjdk-amd64\""
   ]
  },
  {
   "cell_type": "markdown",
   "id": "b0766d80",
   "metadata": {
    "id": "necessary-denial"
   },
   "source": [
    "* Then connect to a SparkSession, setting the spark ui port to `4050`."
   ]
  },
  {
   "cell_type": "code",
   "execution_count": 8,
   "id": "08ccf38e",
   "metadata": {
    "id": "three-treasury"
   },
   "outputs": [
    {
     "ename": "RuntimeError",
     "evalue": "Java gateway process exited before sending its port number",
     "output_type": "error",
     "traceback": [
      "\u001b[0;31m---------------------------------------------------------------------------\u001b[0m",
      "\u001b[0;31mRuntimeError\u001b[0m                              Traceback (most recent call last)",
      "\u001b[0;32m<ipython-input-8-1194fe0a12c6>\u001b[0m in \u001b[0;36m<cell line: 4>\u001b[0;34m()\u001b[0m\n\u001b[1;32m      2\u001b[0m \u001b[0;34m\u001b[0m\u001b[0m\n\u001b[1;32m      3\u001b[0m \u001b[0mconf\u001b[0m \u001b[0;34m=\u001b[0m \u001b[0mSparkConf\u001b[0m\u001b[0;34m(\u001b[0m\u001b[0;34m)\u001b[0m\u001b[0;34m.\u001b[0m\u001b[0mset\u001b[0m\u001b[0;34m(\u001b[0m\u001b[0;34m'spark.ui.port'\u001b[0m\u001b[0;34m,\u001b[0m \u001b[0;34m'4050'\u001b[0m\u001b[0;34m)\u001b[0m\u001b[0;34m.\u001b[0m\u001b[0msetAppName\u001b[0m\u001b[0;34m(\u001b[0m\u001b[0;34m\"netflix\"\u001b[0m\u001b[0;34m)\u001b[0m\u001b[0;34m.\u001b[0m\u001b[0msetMaster\u001b[0m\u001b[0;34m(\u001b[0m\u001b[0;34m\"local[2]\"\u001b[0m\u001b[0;34m)\u001b[0m\u001b[0;34m\u001b[0m\u001b[0;34m\u001b[0m\u001b[0m\n\u001b[0;32m----> 4\u001b[0;31m \u001b[0msc\u001b[0m \u001b[0;34m=\u001b[0m \u001b[0mSparkContext\u001b[0m\u001b[0;34m.\u001b[0m\u001b[0mgetOrCreate\u001b[0m\u001b[0;34m(\u001b[0m\u001b[0mconf\u001b[0m\u001b[0;34m=\u001b[0m\u001b[0mconf\u001b[0m\u001b[0;34m)\u001b[0m\u001b[0;34m\u001b[0m\u001b[0;34m\u001b[0m\u001b[0m\n\u001b[0m",
      "\u001b[0;32m/Library/Frameworks/Python.framework/Versions/3.8/lib/python3.8/site-packages/pyspark/context.py\u001b[0m in \u001b[0;36mgetOrCreate\u001b[0;34m(cls, conf)\u001b[0m\n\u001b[1;32m    481\u001b[0m         \u001b[0;32mwith\u001b[0m \u001b[0mSparkContext\u001b[0m\u001b[0;34m.\u001b[0m\u001b[0m_lock\u001b[0m\u001b[0;34m:\u001b[0m\u001b[0;34m\u001b[0m\u001b[0;34m\u001b[0m\u001b[0m\n\u001b[1;32m    482\u001b[0m             \u001b[0;32mif\u001b[0m \u001b[0mSparkContext\u001b[0m\u001b[0;34m.\u001b[0m\u001b[0m_active_spark_context\u001b[0m \u001b[0;32mis\u001b[0m \u001b[0;32mNone\u001b[0m\u001b[0;34m:\u001b[0m\u001b[0;34m\u001b[0m\u001b[0;34m\u001b[0m\u001b[0m\n\u001b[0;32m--> 483\u001b[0;31m                 \u001b[0mSparkContext\u001b[0m\u001b[0;34m(\u001b[0m\u001b[0mconf\u001b[0m\u001b[0;34m=\u001b[0m\u001b[0mconf\u001b[0m \u001b[0;32mor\u001b[0m \u001b[0mSparkConf\u001b[0m\u001b[0;34m(\u001b[0m\u001b[0;34m)\u001b[0m\u001b[0;34m)\u001b[0m\u001b[0;34m\u001b[0m\u001b[0;34m\u001b[0m\u001b[0m\n\u001b[0m\u001b[1;32m    484\u001b[0m             \u001b[0;32massert\u001b[0m \u001b[0mSparkContext\u001b[0m\u001b[0;34m.\u001b[0m\u001b[0m_active_spark_context\u001b[0m \u001b[0;32mis\u001b[0m \u001b[0;32mnot\u001b[0m \u001b[0;32mNone\u001b[0m\u001b[0;34m\u001b[0m\u001b[0;34m\u001b[0m\u001b[0m\n\u001b[1;32m    485\u001b[0m             \u001b[0;32mreturn\u001b[0m \u001b[0mSparkContext\u001b[0m\u001b[0;34m.\u001b[0m\u001b[0m_active_spark_context\u001b[0m\u001b[0;34m\u001b[0m\u001b[0;34m\u001b[0m\u001b[0m\n",
      "\u001b[0;32m/Library/Frameworks/Python.framework/Versions/3.8/lib/python3.8/site-packages/pyspark/context.py\u001b[0m in \u001b[0;36m__init__\u001b[0;34m(self, master, appName, sparkHome, pyFiles, environment, batchSize, serializer, conf, gateway, jsc, profiler_cls, udf_profiler_cls)\u001b[0m\n\u001b[1;32m    193\u001b[0m             )\n\u001b[1;32m    194\u001b[0m \u001b[0;34m\u001b[0m\u001b[0m\n\u001b[0;32m--> 195\u001b[0;31m         \u001b[0mSparkContext\u001b[0m\u001b[0;34m.\u001b[0m\u001b[0m_ensure_initialized\u001b[0m\u001b[0;34m(\u001b[0m\u001b[0mself\u001b[0m\u001b[0;34m,\u001b[0m \u001b[0mgateway\u001b[0m\u001b[0;34m=\u001b[0m\u001b[0mgateway\u001b[0m\u001b[0;34m,\u001b[0m \u001b[0mconf\u001b[0m\u001b[0;34m=\u001b[0m\u001b[0mconf\u001b[0m\u001b[0;34m)\u001b[0m\u001b[0;34m\u001b[0m\u001b[0;34m\u001b[0m\u001b[0m\n\u001b[0m\u001b[1;32m    196\u001b[0m         \u001b[0;32mtry\u001b[0m\u001b[0;34m:\u001b[0m\u001b[0;34m\u001b[0m\u001b[0;34m\u001b[0m\u001b[0m\n\u001b[1;32m    197\u001b[0m             self._do_init(\n",
      "\u001b[0;32m/Library/Frameworks/Python.framework/Versions/3.8/lib/python3.8/site-packages/pyspark/context.py\u001b[0m in \u001b[0;36m_ensure_initialized\u001b[0;34m(cls, instance, gateway, conf)\u001b[0m\n\u001b[1;32m    415\u001b[0m         \u001b[0;32mwith\u001b[0m \u001b[0mSparkContext\u001b[0m\u001b[0;34m.\u001b[0m\u001b[0m_lock\u001b[0m\u001b[0;34m:\u001b[0m\u001b[0;34m\u001b[0m\u001b[0;34m\u001b[0m\u001b[0m\n\u001b[1;32m    416\u001b[0m             \u001b[0;32mif\u001b[0m \u001b[0;32mnot\u001b[0m \u001b[0mSparkContext\u001b[0m\u001b[0;34m.\u001b[0m\u001b[0m_gateway\u001b[0m\u001b[0;34m:\u001b[0m\u001b[0;34m\u001b[0m\u001b[0;34m\u001b[0m\u001b[0m\n\u001b[0;32m--> 417\u001b[0;31m                 \u001b[0mSparkContext\u001b[0m\u001b[0;34m.\u001b[0m\u001b[0m_gateway\u001b[0m \u001b[0;34m=\u001b[0m \u001b[0mgateway\u001b[0m \u001b[0;32mor\u001b[0m \u001b[0mlaunch_gateway\u001b[0m\u001b[0;34m(\u001b[0m\u001b[0mconf\u001b[0m\u001b[0;34m)\u001b[0m\u001b[0;34m\u001b[0m\u001b[0;34m\u001b[0m\u001b[0m\n\u001b[0m\u001b[1;32m    418\u001b[0m                 \u001b[0mSparkContext\u001b[0m\u001b[0;34m.\u001b[0m\u001b[0m_jvm\u001b[0m \u001b[0;34m=\u001b[0m \u001b[0mSparkContext\u001b[0m\u001b[0;34m.\u001b[0m\u001b[0m_gateway\u001b[0m\u001b[0;34m.\u001b[0m\u001b[0mjvm\u001b[0m\u001b[0;34m\u001b[0m\u001b[0;34m\u001b[0m\u001b[0m\n\u001b[1;32m    419\u001b[0m \u001b[0;34m\u001b[0m\u001b[0m\n",
      "\u001b[0;32m/Library/Frameworks/Python.framework/Versions/3.8/lib/python3.8/site-packages/pyspark/java_gateway.py\u001b[0m in \u001b[0;36mlaunch_gateway\u001b[0;34m(conf, popen_kwargs)\u001b[0m\n\u001b[1;32m    104\u001b[0m \u001b[0;34m\u001b[0m\u001b[0m\n\u001b[1;32m    105\u001b[0m             \u001b[0;32mif\u001b[0m \u001b[0;32mnot\u001b[0m \u001b[0mos\u001b[0m\u001b[0;34m.\u001b[0m\u001b[0mpath\u001b[0m\u001b[0;34m.\u001b[0m\u001b[0misfile\u001b[0m\u001b[0;34m(\u001b[0m\u001b[0mconn_info_file\u001b[0m\u001b[0;34m)\u001b[0m\u001b[0;34m:\u001b[0m\u001b[0;34m\u001b[0m\u001b[0;34m\u001b[0m\u001b[0m\n\u001b[0;32m--> 106\u001b[0;31m                 \u001b[0;32mraise\u001b[0m \u001b[0mRuntimeError\u001b[0m\u001b[0;34m(\u001b[0m\u001b[0;34m\"Java gateway process exited before sending its port number\"\u001b[0m\u001b[0;34m)\u001b[0m\u001b[0;34m\u001b[0m\u001b[0;34m\u001b[0m\u001b[0m\n\u001b[0m\u001b[1;32m    107\u001b[0m \u001b[0;34m\u001b[0m\u001b[0m\n\u001b[1;32m    108\u001b[0m             \u001b[0;32mwith\u001b[0m \u001b[0mopen\u001b[0m\u001b[0;34m(\u001b[0m\u001b[0mconn_info_file\u001b[0m\u001b[0;34m,\u001b[0m \u001b[0;34m\"rb\"\u001b[0m\u001b[0;34m)\u001b[0m \u001b[0;32mas\u001b[0m \u001b[0minfo\u001b[0m\u001b[0;34m:\u001b[0m\u001b[0;34m\u001b[0m\u001b[0;34m\u001b[0m\u001b[0m\n",
      "\u001b[0;31mRuntimeError\u001b[0m: Java gateway process exited before sending its port number"
     ]
    }
   ],
   "source": [
    "from pyspark import SparkContext, SparkConf\n",
    "\n",
    "conf = SparkConf().set('spark.ui.port', '4050').setAppName(\"netflix\").setMaster(\"local[2]\")\n",
    "sc = SparkContext.getOrCreate(conf=conf)"
   ]
  },
  {
   "cell_type": "markdown",
   "id": "3c48df8b",
   "metadata": {
    "id": "compact-brighton"
   },
   "source": [
    "* Then we need to install ngrok which will allow us to place our local spark ui on the web."
   ]
  },
  {
   "cell_type": "code",
   "execution_count": null,
   "id": "bd1b88fe",
   "metadata": {
    "id": "falling-meeting"
   },
   "outputs": [],
   "source": [
    "!wget https://bin.equinox.io/c/4VmDzA7iaHb/ngrok-stable-linux-amd64.zip &> /dev/null\n",
    "!unzip ngrok-stable-linux-amd64.zip &> /dev/null\n",
    "get_ipython().system_raw('./ngrok http 4050 &')"
   ]
  },
  {
   "cell_type": "markdown",
   "id": "e5cd164b",
   "metadata": {
    "id": "hundred-wings"
   },
   "source": [
    "* And finally we get a link our Spark UI"
   ]
  },
  {
   "cell_type": "code",
   "execution_count": null,
   "id": "d59d3a0e",
   "metadata": {
    "id": "intelligent-prompt"
   },
   "outputs": [],
   "source": [
    "!curl -s http://localhost:4040/api/tunnels | python3 -c \\\n",
    "    \"import sys, json; print(json.load(sys.stdin)['tunnels'][0]['public_url'])\""
   ]
  },
  {
   "cell_type": "markdown",
   "id": "4954b3e6",
   "metadata": {
    "id": "miniature-paragraph"
   },
   "source": [
    "### Viewing our Cluster"
   ]
  },
  {
   "cell_type": "markdown",
   "id": "ed84d138",
   "metadata": {
    "id": "corporate-project"
   },
   "source": [
    "Now get a link to an interface to view our cluster, simply by referencing our Spark Context, or we can view the link outputted above."
   ]
  },
  {
   "cell_type": "code",
   "execution_count": null,
   "id": "03e6d229",
   "metadata": {
    "id": "introductory-imaging",
    "outputId": "a1d4b62f-5a10-4025-952f-a574eb15de0c"
   },
   "outputs": [
    {
     "data": {
      "text/html": [
       "\n",
       "        <div>\n",
       "            <p><b>SparkContext</b></p>\n",
       "\n",
       "            <p><a href=\"http://jeffreys-air.home:4041\">Spark UI</a></p>\n",
       "\n",
       "            <dl>\n",
       "              <dt>Version</dt>\n",
       "                <dd><code>v3.1.1</code></dd>\n",
       "              <dt>Master</dt>\n",
       "                <dd><code>local[4]</code></dd>\n",
       "              <dt>AppName</dt>\n",
       "                <dd><code>netflix</code></dd>\n",
       "            </dl>\n",
       "        </div>\n",
       "        "
      ],
      "text/plain": [
       "<SparkContext master=local[4] appName=netflix>"
      ]
     },
     "execution_count": 6,
     "metadata": {},
     "output_type": "execute_result"
    }
   ],
   "source": [
    "sc"
   ]
  },
  {
   "cell_type": "markdown",
   "id": "8b5d87ac",
   "metadata": {
    "id": "established-physiology"
   },
   "source": [
    "If we click on the blue `Spark UI` link above, this will take us to the Spark UI dashboard.  From there, the toolbar at the top and click on the `executors` tab.  From there, we'll see something like the following."
   ]
  },
  {
   "cell_type": "markdown",
   "id": "71da0050",
   "metadata": {
    "id": "amber-buddy"
   },
   "source": [
    "<img src=\"https://github.com/jigsawlabs-student/pyspark-cluster-lab/blob/main/executors.png?raw=1\" width=\"100%\">"
   ]
  },
  {
   "cell_type": "markdown",
   "id": "0c9e052f",
   "metadata": {
    "id": "hourly-calcium"
   },
   "source": [
    "So we can see that under `Cores`, it says 4.  And notice that our executor id says driver, which makes sense -- because when everything is local we do not have worker nodes that are separate from our driver node."
   ]
  },
  {
   "cell_type": "markdown",
   "id": "e739fa3e",
   "metadata": {
    "id": "sustainable-apparel"
   },
   "source": [
    "### Reading some data"
   ]
  },
  {
   "cell_type": "markdown",
   "id": "81a7f71c",
   "metadata": {
    "id": "muslim-tiffany"
   },
   "source": [
    "Ok, now let's load some data into our Spark cluster.  To do so, we can first read in our Netflix data using a separate library, pandas."
   ]
  },
  {
   "cell_type": "code",
   "execution_count": null,
   "id": "d5e814b6",
   "metadata": {
    "id": "forbidden-recognition"
   },
   "outputs": [],
   "source": [
    "import pandas as pd\n",
    "url = \"https://raw.githubusercontent.com/jigsawlabs-student/pyspark-cluster-lab/main/netflix_titles.csv\"\n",
    "df = pd.read_csv(url)\n",
    "movies = df.to_dict('records')"
   ]
  },
  {
   "cell_type": "markdown",
   "id": "17dd554d",
   "metadata": {
    "id": "demonstrated-group"
   },
   "source": [
    "So above, movies is a list of dictionaries in Python."
   ]
  },
  {
   "cell_type": "code",
   "execution_count": null,
   "id": "fa176119",
   "metadata": {
    "id": "instant-python",
    "outputId": "f78d5921-48e2-4e3c-8172-09f5f272c532"
   },
   "outputs": [
    {
     "data": {
      "text/plain": [
       "[{'show_id': 's1',\n",
       "  'type': 'TV Show',\n",
       "  'title': '3%',\n",
       "  'director': nan,\n",
       "  'cast': 'João Miguel, Bianca Comparato, Michel Gomes, Rodolfo Valente, Vaneza Oliveira, Rafael Lozano, Viviane Porto, Mel Fronckowiak, Sergio Mamberti, Zezé Motta, Celso Frateschi',\n",
       "  'country': 'Brazil',\n",
       "  'date_added': 'August 14, 2020',\n",
       "  'release_year': 2020,\n",
       "  'rating': 'TV-MA',\n",
       "  'duration': '4 Seasons',\n",
       "  'listed_in': 'International TV Shows, TV Dramas, TV Sci-Fi & Fantasy',\n",
       "  'description': 'In a future where the elite inhabit an island paradise far from the crowded slums, you get one chance to join the 3% saved from squalor.'}]"
      ]
     },
     "execution_count": 8,
     "metadata": {},
     "output_type": "execute_result"
    }
   ],
   "source": [
    "movies[:1]"
   ]
  },
  {
   "cell_type": "markdown",
   "id": "06acb966",
   "metadata": {
    "id": "laden-child"
   },
   "source": [
    "Ok, from here, let's distribute our data across the executors of our cluster.  We can do see by passing our data into the `parallelize` method."
   ]
  },
  {
   "cell_type": "code",
   "execution_count": null,
   "id": "d5c9593f",
   "metadata": {
    "id": "vocal-cabin",
    "outputId": "d4cd6c38-e76c-48a4-c9d3-03392de4ab43"
   },
   "outputs": [
    {
     "data": {
      "text/plain": [
       "ParallelCollectionRDD[0] at readRDDFromFile at PythonRDD.scala:274"
      ]
     },
     "execution_count": 10,
     "metadata": {},
     "output_type": "execute_result"
    }
   ],
   "source": [
    "movies_rdd = None\n",
    "movies_rdd\n",
    "\n",
    "# ParallelCollectionRDD[0] at readRDDFromFile at PythonRDD.scala:274"
   ]
  },
  {
   "cell_type": "markdown",
   "id": "718c0acd",
   "metadata": {
    "id": "deluxe-uncle"
   },
   "source": [
    "And from there, let's see the number of partitions that our data is broken into."
   ]
  },
  {
   "cell_type": "code",
   "execution_count": null,
   "id": "f484026d",
   "metadata": {
    "id": "advance-wheat",
    "outputId": "af5e4abe-ca7a-42eb-df9d-c5227d9c5a71"
   },
   "outputs": [
    {
     "data": {
      "text/plain": [
       "4"
      ]
     },
     "execution_count": 47,
     "metadata": {},
     "output_type": "execute_result"
    }
   ],
   "source": [
    "\n",
    "# 4"
   ]
  },
  {
   "cell_type": "markdown",
   "id": "b91a55f1",
   "metadata": {
    "id": "vocational-mitchell"
   },
   "source": [
    "Now we'll learn more about how to use the Spark UI to see what Spark is doing, but perhaps one way is to look at the memory consumed. We can view this by again going to the executors tab, and then looking at the storage memory.   Notice that none of the memory was consumed, even though we directed Spark to create an RDD."
   ]
  },
  {
   "cell_type": "markdown",
   "id": "fd54dae3",
   "metadata": {
    "id": "intellectual-barbados"
   },
   "source": [
    "> <img src=\"https://github.com/jigsawlabs-student/pyspark-cluster-lab/blob/main/executors_mem.png?raw=1\" width=\"100%\">"
   ]
  },
  {
   "cell_type": "markdown",
   "id": "9cc2b3db",
   "metadata": {
    "id": "horizontal-bottle"
   },
   "source": [
    "### Performing Operations"
   ]
  },
  {
   "cell_type": "markdown",
   "id": "217266b6",
   "metadata": {
    "id": "ordered-halloween"
   },
   "source": [
    "Ok, next use the `filter` and method to see all of movies from the country `'Brazil'`.  We'll call the `collect` method for you in the next line, so that you can see the results."
   ]
  },
  {
   "cell_type": "code",
   "execution_count": null,
   "id": "28eb9ff6",
   "metadata": {
    "id": "verified-forward"
   },
   "outputs": [],
   "source": [
    "brazil_movies_rdd = None"
   ]
  },
  {
   "cell_type": "code",
   "execution_count": null,
   "id": "feaceca2",
   "metadata": {
    "id": "floral-woman",
    "outputId": "56814ae9-64b0-497d-e84e-aeee0d02383c"
   },
   "outputs": [
    {
     "data": {
      "text/plain": [
       "[{'show_id': 's1',\n",
       "  'type': 'TV Show',\n",
       "  'title': '3%',\n",
       "  'director': nan,\n",
       "  'cast': 'João Miguel, Bianca Comparato, Michel Gomes, Rodolfo Valente, Vaneza Oliveira, Rafael Lozano, Viviane Porto, Mel Fronckowiak, Sergio Mamberti, Zezé Motta, Celso Frateschi',\n",
       "  'country': 'Brazil',\n",
       "  'date_added': 'August 14, 2020',\n",
       "  'release_year': 2020,\n",
       "  'rating': 'TV-MA',\n",
       "  'duration': '4 Seasons',\n",
       "  'listed_in': 'International TV Shows, TV Dramas, TV Sci-Fi & Fantasy',\n",
       "  'description': 'In a future where the elite inhabit an island paradise far from the crowded slums, you get one chance to join the 3% saved from squalor.'}]"
      ]
     },
     "execution_count": 51,
     "metadata": {},
     "output_type": "execute_result"
    }
   ],
   "source": [
    "brazil_movies_rdd.collect()[:1]\n",
    "\n",
    "# [{'show_id': 's1',\n",
    "#   'type': 'TV Show',\n",
    "#   'title': '3%',\n",
    "#   'director': nan,\n",
    "#   'cast': 'João Miguel, Bianca Comparato, Michel Gomes, Rodolfo Valente, Vaneza Oliveira, Rafael Lozano, Viviane Porto, Mel Fronckowiak, Sergio Mamberti, Zezé Motta, Celso Frateschi',\n",
    "#   'country': 'Brazil',\n",
    "#   'date_added': 'August 14, 2020',\n",
    "#   'release_year': 2020,\n",
    "#   'rating': 'TV-MA',\n",
    "#   'duration': '4 Seasons',\n",
    "#   'listed_in': 'International TV Shows, TV Dramas, TV Sci-Fi & Fantasy',\n",
    "#   'description': 'In a future where the elite inhabit an island paradise far from the crowded slums, you get one chance to join the 3% saved from squalor.'}]"
   ]
  },
  {
   "cell_type": "markdown",
   "id": "f7fcccbb",
   "metadata": {
    "id": "attended-nudist"
   },
   "source": [
    "So now if we go back to the executors tab, we can see that some of our memory at this point was consumed.  This tells us that once we saw this result, Spark used some of the memory to save the result.\n",
    "\n",
    "Ok, let's do another query.  This time, use spark to find the ratings of us movies.  \n",
    "> Once again, we'll call collect for you in the next line."
   ]
  },
  {
   "cell_type": "code",
   "execution_count": null,
   "id": "f7ab1381",
   "metadata": {
    "id": "concerned-pollution"
   },
   "outputs": [],
   "source": [
    "us_ratings = None"
   ]
  },
  {
   "cell_type": "code",
   "execution_count": null,
   "id": "8ddaf077",
   "metadata": {
    "id": "excited-luxury",
    "outputId": "1237bde0-1689-4b04-9893-f0b755df19e0"
   },
   "outputs": [
    {
     "data": {
      "text/plain": [
       "['PG-13', 'PG-13']"
      ]
     },
     "execution_count": 53,
     "metadata": {},
     "output_type": "execute_result"
    }
   ],
   "source": [
    "us_ratings.collect()[:2]\n",
    "# ['PG-13', 'PG-13']"
   ]
  },
  {
   "cell_type": "markdown",
   "id": "97a4d1cb",
   "metadata": {
    "id": "scheduled-twins"
   },
   "source": [
    "And again we'll take another look at the storage memory that's consumed.  This time we can see that we consumed additional memory."
   ]
  },
  {
   "cell_type": "markdown",
   "id": "9fc54627",
   "metadata": {
    "id": "familiar-chick"
   },
   "source": [
    "> <img src='https://github.com/jigsawlabs-student/pyspark-cluster-lab/blob/main/filter_map_mem.png?raw=1' width='60%'>"
   ]
  },
  {
   "cell_type": "markdown",
   "id": "7b304d26",
   "metadata": {
    "id": "other-speaking"
   },
   "source": [
    "> The important part is developing a sense for when Spark is storing our data in memory.  It seems like that when we perform queries, Spark is saving our results in memory."
   ]
  },
  {
   "cell_type": "markdown",
   "id": "730581ad",
   "metadata": {
    "id": "oriented-twenty"
   },
   "source": [
    "Finally, it's a good idea to shutdown the context when we are done working with it.  We can do so with the following:"
   ]
  },
  {
   "cell_type": "code",
   "execution_count": null,
   "id": "1d5cfeb8",
   "metadata": {
    "id": "healthy-fraction"
   },
   "outputs": [],
   "source": [
    "sc.stop()"
   ]
  },
  {
   "cell_type": "markdown",
   "id": "1123ec0b",
   "metadata": {
    "id": "meaning-species"
   },
   "source": [
    "> Notice that if we now try to go to the Spark UI by say refreshing the page, we cannot."
   ]
  },
  {
   "cell_type": "markdown",
   "id": "4194879c",
   "metadata": {
    "id": "reduced-rotation"
   },
   "source": [
    "<img src=\"https://github.com/jigsawlabs-student/pyspark-cluster-lab/blob/main/site_not_reach.png?raw=1\" width=\"60%\">"
   ]
  },
  {
   "cell_type": "markdown",
   "id": "a65b2b4c",
   "metadata": {
    "id": "written-spare"
   },
   "source": [
    "### Summary"
   ]
  },
  {
   "cell_type": "markdown",
   "id": "1acf6c88",
   "metadata": {
    "id": "arbitrary-photograph"
   },
   "source": [
    "In this lab, we practiced connecting to a cluster, creating a distributed dataset that we can query in parallel, and using the Spark UI to get a better understanding of the operations in our cluster.  By monitoring the memory consumption in our cluster, we saw that Spark is storing the results of our operations in memory."
   ]
  }
 ],
 "metadata": {
  "colab": {
   "provenance": []
  },
  "kernelspec": {
   "display_name": "Python 3",
   "language": "python",
   "name": "python3"
  },
  "language_info": {
   "codemirror_mode": {
    "name": "ipython",
    "version": 3
   },
   "file_extension": ".py",
   "mimetype": "text/x-python",
   "name": "python",
   "nbconvert_exporter": "python",
   "pygments_lexer": "ipython3",
   "version": "3.8.1"
  }
 },
 "nbformat": 4,
 "nbformat_minor": 5
}
